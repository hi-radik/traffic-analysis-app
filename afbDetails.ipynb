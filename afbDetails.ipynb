{
 "cells": [
  {
   "cell_type": "markdown",
   "metadata": {},
   "source": [
    "# Скрипт для сбора информации об авиабазе"
   ]
  },
  {
   "cell_type": "markdown",
   "metadata": {},
   "source": [
    "## Импортируем библиотеки"
   ]
  },
  {
   "cell_type": "code",
   "execution_count": 15,
   "metadata": {},
   "outputs": [],
   "source": [
    "import numpy as np \n",
    "import pandas as pd \n",
    "import pyflightdata \n",
    "import time  "
   ]
  },
  {
   "cell_type": "markdown",
   "metadata": {},
   "source": [
    "## Создаем объект f класса FlightData модуля pyflightdata и используем метод 'login' (входим в аккаунт flightradar24)"
   ]
  },
  {
   "cell_type": "code",
   "execution_count": 16,
   "metadata": {},
   "outputs": [],
   "source": [
    "f=pyflightdata.FlightData()\n",
    "#Зарегестрируйтесь на сайте www.flightradar24.com  НЕ ИСПОЛЬЗУЙТЕ УКАЗАННЫЕ НИЖЕ ЛОГИН И ПАРОЛЬ\n",
    "f.login('azazel1416@yandex.ru','Radar534')"
   ]
  },
  {
   "cell_type": "markdown",
   "metadata": {},
   "source": [
    "## Создаем DataFrame с указанными полями, а также определяем список авиабаз"
   ]
  },
  {
   "cell_type": "code",
   "execution_count": 48,
   "metadata": {},
   "outputs": [],
   "source": [
    "#Датафрейм\n",
    "data = pd.DataFrame(columns = ['name','code','country','city','latitude','longitude','imageLink'])\n",
    "\n",
    "#Список авиабаз\n",
    "afbList = ['LTAG', 'KLTS','PGUA','OAIX','KXMR','KVBG','KDYS','KDMA','KXTA',\n",
    "'DNA','UTSL','BIKF','KUV','EGUL','KLFI','FRU','EGUN','KLSV','KOFF','RMS','KROW','BGTL',\n",
    "'KSZL','EGVA','OASD','EDW','PAED','KADW','KVOK','KVD','YLV','UBBI','LIPA','RIV','SUU','WHP','TAY','TLL','EPU','KDL','URE ','RIX',\n",
    "'VNT','LPX','VNO','KUN','SQQ','PLQ','GDN','SZZ','BZG','POZ','WMI','WAW','LCJ','LUZ','WRO','KTW','KRK','RZE','IEV','RWN',\n",
    "'GML','VIN','ADB','ADA','TBS','KBP','PED','KBL']\n",
    "\n"
   ]
  },
  {
   "cell_type": "markdown",
   "metadata": {},
   "source": [
    "## Пример ответа с сайта flightradar24  при использовании метода 'get_airport_details'"
   ]
  },
  {
   "cell_type": "code",
   "execution_count": 55,
   "metadata": {},
   "outputs": [
    {
     "data": {
      "text/plain": [
       "{'name': 'Incirlik',\n",
       " 'code': {'iata': 'UAB', 'icao': 'LTAG'},\n",
       " 'delayIndex': {'arrivals': 'None', 'departures': 'None'},\n",
       " 'stats': 'None',\n",
       " 'position': {'latitude': 37,\n",
       "  'longitude': 35.419998,\n",
       "  'elevation': 238,\n",
       "  'country': {'name': 'Turkey', 'code': 'TR'},\n",
       "  'region': {'city': 'Adana'}},\n",
       " 'timezone': {'name': 'Europe/Istanbul',\n",
       "  'offset': 10800,\n",
       "  'abbr': '+03',\n",
       "  'abbrName': 'None',\n",
       "  'isDst': False},\n",
       " 'url': {'homepage': 'None', 'webcam': 'None', 'wikipedia': 'None'},\n",
       " 'airportImages': 'None',\n",
       " 'visible': False}"
      ]
     },
     "execution_count": 55,
     "metadata": {},
     "output_type": "execute_result"
    }
   ],
   "source": [
    "#Получаем подробную информацию об авиабазе\n",
    "res = f.get_airport_details('LTAG')\n",
    "res"
   ]
  },
  {
   "cell_type": "markdown",
   "metadata": {},
   "source": [
    "## Алгоритм сбора даных"
   ]
  },
  {
   "cell_type": "code",
   "execution_count": 51,
   "metadata": {
    "scrolled": true
   },
   "outputs": [
    {
     "name": "stdout",
     "output_type": "stream",
     "text": [
      "https://www.jetphotos.com/photo/8912308\n",
      "https://www.jetphotos.com/photo/9976549\n",
      "https://www.jetphotos.com/photo/7686443\n",
      "https://www.jetphotos.com/photo/9131826\n",
      "https://www.jetphotos.com/photo/10293413\n",
      "https://www.jetphotos.com/photo/8635928\n",
      "https://www.jetphotos.com/photo/7562722\n",
      "https://www.jetphotos.com/photo/10199682\n",
      "https://www.jetphotos.com/photo/8350799\n",
      "https://www.jetphotos.com/photo/8353477\n",
      "https://www.jetphotos.com/photo/8126459\n",
      "https://www.jetphotos.com/photo/8697504\n",
      "HTML code 400 - Retry in 10 seconds...\n",
      "HTML code 400 - Retry in 10 seconds...\n",
      "https://www.jetphotos.com/photo/10087230\n",
      "https://www.jetphotos.com/photo/9422809\n",
      "https://www.jetphotos.com/photo/7887278\n",
      "https://www.jetphotos.com/photo/6487717\n",
      "https://www.jetphotos.com/photo/9617739\n",
      "https://www.jetphotos.com/photo/8734045\n",
      "https://www.jetphotos.com/photo/9876594\n",
      "https://www.jetphotos.com/photo/7198978\n",
      "https://www.jetphotos.com/photo/10188187\n",
      "https://www.jetphotos.com/photo/7966476\n",
      "https://www.jetphotos.com/photo/9804578\n",
      "https://www.jetphotos.com/photo/10027271\n",
      "https://www.jetphotos.com/photo/7777041\n",
      "https://www.jetphotos.com/photo/8952772\n",
      "https://www.jetphotos.com/photo/10304573\n",
      "https://www.jetphotos.com/photo/9809830\n",
      "https://www.jetphotos.com/photo/10033579\n",
      "https://www.jetphotos.com/photo/9028143\n",
      "https://www.jetphotos.com/photo/10199260\n",
      "https://www.jetphotos.com/photo/6109967\n",
      "https://www.jetphotos.com/photo/9454783\n",
      "https://www.jetphotos.com/photo/8115055\n",
      "https://www.jetphotos.com/photo/8092779\n",
      "https://www.jetphotos.com/photo/6978963\n",
      "https://www.jetphotos.com/photo/9705811\n",
      "https://www.jetphotos.com/photo/9359650\n",
      "https://www.jetphotos.com/photo/8565402\n",
      "                                    name  code        country       city  \\\n",
      "0                               Incirlik  LTAG         Turkey      Adana   \n",
      "1                              Altus AFB  KLTS  United States      Altus   \n",
      "2                           Andersen AFB  PGUA           Guam   Andersen   \n",
      "3        Logistics Support Area Anaconda  OAIX    Afghanistan     Bagram   \n",
      "4                         Vandenberg AFB  KVBG  United States     Lompoc   \n",
      "..                                   ...   ...            ...        ...   \n",
      "121              Adana Sakirpasa Airport   ADA         Turkey      Adana   \n",
      "122        Tbilisi International Airport   TBS        Georgia    Tbilisi   \n",
      "123  Kyiv Boryspil International Airport   KBP        Ukraine       Kyiv   \n",
      "124                    Pardubice Airport   PED        Czechia  Pardubice   \n",
      "125          Kabul International Airport   KBL    Afghanistan      Kabul   \n",
      "\n",
      "    latitude   longitude                                imageLink  \n",
      "0         37   35.419998                                        -  \n",
      "1    34.6665  -99.267998                                        -  \n",
      "2    13.5839  144.929993                                        -  \n",
      "3    34.9596   69.270508                                        -  \n",
      "4    34.7297 -120.575996                                        -  \n",
      "..       ...         ...                                      ...  \n",
      "121  36.9822   35.280380  https://www.jetphotos.com/photo/8092779  \n",
      "122  41.6692   44.954720  https://www.jetphotos.com/photo/6978963  \n",
      "123   50.345   30.894720  https://www.jetphotos.com/photo/9705811  \n",
      "124  50.0134   15.738640  https://www.jetphotos.com/photo/9359650  \n",
      "125  34.5658   69.212410  https://www.jetphotos.com/photo/8565402  \n",
      "\n",
      "[126 rows x 7 columns]\n"
     ]
    }
   ],
   "source": [
    "#Для каждой afb из списка:\n",
    "for i in afbList:\n",
    "    \n",
    "    main = f.get_airport_details(i) #Метод для получения информации об afb с сайта fr24 \n",
    "    time.sleep(2) #Искуственная задержка 2сек,чтобы избежать 429 ошибки\n",
    "    \n",
    "    if main != []:\n",
    "        \n",
    "        #Название  afb\n",
    "        if main['name'] != '':\n",
    "            name = main['name']\n",
    "        else:\n",
    "            name = '-'\n",
    "            \n",
    "        \n",
    "        #Код afb\n",
    "        code = i \n",
    "        \n",
    "        #Страна, в которой находится afb\n",
    "        if main['position']['country']['name'] != '':\n",
    "            country = main['position']['country']['name']\n",
    "        else:\n",
    "            country = '-'\n",
    "        \n",
    "        #Населенный пункт\n",
    "        if main['position']['region']['city'] != '':\n",
    "            city = main['position']['region']['city']\n",
    "        else:\n",
    "            city = '-'\n",
    "            \n",
    "        #Координаты для дальнейшего нанесения маркеров на карту\n",
    "        if main['position']['latitude'] != '':\n",
    "            latitude = main['position']['latitude']\n",
    "        else:\n",
    "            latitudetude = '-'\n",
    "        if main['position']['longitude'] != '':\n",
    "            longitude = main['position']['longitude']\n",
    "        else:\n",
    "            longitude = '-'\n",
    "        \n",
    "        #Фото аэропорта - ВПП/терминал/что-то\n",
    "        if main['airportImages'] != 'None':\n",
    "            if main['airportImages']['large'][0]['link'] != '':\n",
    "                imageLink = main['airportImages']['large'][0]['link']\n",
    "                print(imageLink)\n",
    "            else:\n",
    "                imageLink = '-'\n",
    "        else:\n",
    "            imageLink = '-'\n",
    "        \n",
    "        #Запись строки в DataFrame\n",
    "        data.loc[len(data)] = [name, code, country, city, latitude, longitude, imageLink]"
   ]
  },
  {
   "cell_type": "markdown",
   "metadata": {},
   "source": [
    "## Отображаем таблицу"
   ]
  },
  {
   "cell_type": "code",
   "execution_count": null,
   "metadata": {},
   "outputs": [],
   "source": [
    "#Удаляем дубликаты\n",
    "data.drop_duplicates()\n",
    "\n",
    "#Отображаем таблицу\n",
    "data"
   ]
  }
 ],
 "metadata": {
  "kernelspec": {
   "display_name": "Python 3",
   "language": "python",
   "name": "python3"
  },
  "language_info": {
   "codemirror_mode": {
    "name": "ipython",
    "version": 3
   },
   "file_extension": ".py",
   "mimetype": "text/x-python",
   "name": "python",
   "nbconvert_exporter": "python",
   "pygments_lexer": "ipython3",
   "version": "3.7.4"
  }
 },
 "nbformat": 4,
 "nbformat_minor": 4
}
