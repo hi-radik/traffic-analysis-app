{
 "cells": [
  {
   "cell_type": "markdown",
   "metadata": {},
   "source": [
    "# Скрипт для сбора информации об авиабазе"
   ]
  },
  {
   "cell_type": "markdown",
   "metadata": {},
   "source": [
    "## Импортируем библиотеки"
   ]
  },
  {
   "cell_type": "code",
   "execution_count": 1,
   "metadata": {},
   "outputs": [
    {
     "name": "stdout",
     "output_type": "stream",
     "text": [
      "hello world!\n"
     ]
    }
   ],
   "source": [
    "import numpy as np \n",
    "import pandas as pd \n",
    "import pyflightdata \n",
    "import time  \n",
    "\n",
    "import plotly.express as px\n",
    "import geopandas as gpd\n",
    "import plotly.graph_objects as go\n",
    "import dash\n",
    "import dash_core_components\n",
    "import dash_html_components\n",
    "import random"
   ]
  },
  {
   "cell_type": "markdown",
   "metadata": {},
   "source": [
    "## Создаем объект f класса FlightData модуля pyflightdata и используем метод 'login' (входим в аккаунт flightradar24)"
   ]
  },
  {
   "cell_type": "code",
   "execution_count": 74,
   "metadata": {},
   "outputs": [],
   "source": [
    "#Объект\n",
    "f=pyflightdata.FlightData()\n",
    "\n",
    "#Зарегестрируйтесь на сайте www.flightradar24.com  НЕ ИСПОЛЬЗУЙТЕ УКАЗАННЫЕ НИЖЕ ЛОГИН И ПАРОЛЬ\n",
    "f.login('azazel1416@yandex.ru','Radar534')"
   ]
  },
  {
   "cell_type": "markdown",
   "metadata": {},
   "source": [
    "## Создаем DataFrame с указанными полями, а также определяем список авиабаз"
   ]
  },
  {
   "cell_type": "code",
   "execution_count": 3,
   "metadata": {},
   "outputs": [],
   "source": [
    "#Датафрейм\n",
    "data = pd.DataFrame(columns = ['name','code','country','city','latitude','longitude','imageLink'])\n",
    "\n",
    "#Список авиабаз\n",
    "afbList = ['LTAG', 'KLTS','PGUA','OAIX','KXMR','KVBG','KDYS','KDMA','KXTA',\n",
    "'DNA','UTSL','BIKF','KUV','EGUL','KLFI','FRU','EGUN','KLSV','KOFF','RMS','KROW','BGTL',\n",
    "'KSZL','EGVA','OASD','EDW','PAED','KADW','KVOK','KVD','YLV','UBBI','LIPA','RIV','SUU','WHP','TAY','TLL','EPU','KDL','URE ','RIX',\n",
    "'VNT','LPX','VNO','KUN','SQQ','PLQ','GDN','SZZ','BZG','POZ','WMI','WAW','LCJ','LUZ','WRO','KTW','KRK','RZE','IEV','RWN',\n",
    "'GML','VIN','ADB','ADA','TBS','KBP','PED','KBL']\n",
    "\n"
   ]
  },
  {
   "cell_type": "markdown",
   "metadata": {},
   "source": [
    "## Пример ответа с сайта flightradar24  при использовании метода 'get_airport_details'"
   ]
  },
  {
   "cell_type": "code",
   "execution_count": 55,
   "metadata": {},
   "outputs": [
    {
     "data": {
      "text/plain": [
       "{'name': 'Incirlik',\n",
       " 'code': {'iata': 'UAB', 'icao': 'LTAG'},\n",
       " 'delayIndex': {'arrivals': 'None', 'departures': 'None'},\n",
       " 'stats': 'None',\n",
       " 'position': {'latitude': 37,\n",
       "  'longitude': 35.419998,\n",
       "  'elevation': 238,\n",
       "  'country': {'name': 'Turkey', 'code': 'TR'},\n",
       "  'region': {'city': 'Adana'}},\n",
       " 'timezone': {'name': 'Europe/Istanbul',\n",
       "  'offset': 10800,\n",
       "  'abbr': '+03',\n",
       "  'abbrName': 'None',\n",
       "  'isDst': False},\n",
       " 'url': {'homepage': 'None', 'webcam': 'None', 'wikipedia': 'None'},\n",
       " 'airportImages': 'None',\n",
       " 'visible': False}"
      ]
     },
     "execution_count": 55,
     "metadata": {},
     "output_type": "execute_result"
    }
   ],
   "source": [
    "#Получаем подробную информацию об авиабазе\n",
    "res = f.get_airport_details('LTAG')\n",
    "res"
   ]
  },
  {
   "cell_type": "markdown",
   "metadata": {},
   "source": [
    "## Алгоритм сбора даных"
   ]
  },
  {
   "cell_type": "code",
   "execution_count": null,
   "metadata": {
    "scrolled": true
   },
   "outputs": [
    {
     "name": "stdout",
     "output_type": "stream",
     "text": [
      "https://www.jetphotos.com/photo/8912308\n",
      "https://www.jetphotos.com/photo/9976549\n",
      "https://www.jetphotos.com/photo/7686443\n",
      "https://www.jetphotos.com/photo/9131826\n",
      "https://www.jetphotos.com/photo/10293413\n",
      "https://www.jetphotos.com/photo/8635928\n",
      "https://www.jetphotos.com/photo/7562722\n",
      "https://www.jetphotos.com/photo/10199682\n",
      "https://www.jetphotos.com/photo/8350799\n"
     ]
    }
   ],
   "source": [
    "#Для каждой afb из списка:\n",
    "for i in afbList:\n",
    "    \n",
    "    main = f.get_airport_details(i) #Метод для получения информации об afb с сайта fr24 \n",
    "    time.sleep(2) #Искуственная задержка 2сек,чтобы избежать 429 ошибки\n",
    "    \n",
    "    if main != []:\n",
    "        \n",
    "        #Название  afb\n",
    "        if main['name'] != '':\n",
    "            name = main['name']\n",
    "        else:\n",
    "            name = '-'\n",
    "            \n",
    "        #Код afb\n",
    "        code = i \n",
    "        \n",
    "        #Страна, в которой находится afb\n",
    "        if main['position']['country']['name'] != '':\n",
    "            country = main['position']['country']['name']\n",
    "        else:\n",
    "            country = '-'\n",
    "        \n",
    "        #Населенный пункт\n",
    "        if main['position']['region']['city'] != '':\n",
    "            city = main['position']['region']['city']\n",
    "        else:\n",
    "            city = '-'\n",
    "            \n",
    "        #Координаты для дальнейшего нанесения маркеров на карту\n",
    "        if main['position']['latitude'] != '':\n",
    "            latitude = main['position']['latitude']\n",
    "        else:\n",
    "            latitudetude = '-'\n",
    "        if main['position']['longitude'] != '':\n",
    "            longitude = main['position']['longitude']\n",
    "        else:\n",
    "            longitude = '-'\n",
    "        \n",
    "        #Фото аэропорта - ВПП/терминал/что-то\n",
    "        if main['airportImages'] != 'None':\n",
    "            if main['airportImages']['large'][0]['link'] != '':\n",
    "                imageLink = main['airportImages']['large'][0]['link']\n",
    "                print(imageLink)\n",
    "            else:\n",
    "                imageLink = '-'\n",
    "        else:\n",
    "            imageLink = '-'\n",
    "        \n",
    "        #Запись строки в DataFrame\n",
    "        data.loc[len(data)] = [name, code, country, city, latitude, longitude, imageLink]"
   ]
  },
  {
   "cell_type": "markdown",
   "metadata": {},
   "source": [
    "## Отображаем таблицу"
   ]
  },
  {
   "cell_type": "code",
   "execution_count": 4,
   "metadata": {},
   "outputs": [
    {
     "data": {
      "text/html": [
       "<div>\n",
       "<style scoped>\n",
       "    .dataframe tbody tr th:only-of-type {\n",
       "        vertical-align: middle;\n",
       "    }\n",
       "\n",
       "    .dataframe tbody tr th {\n",
       "        vertical-align: top;\n",
       "    }\n",
       "\n",
       "    .dataframe thead th {\n",
       "        text-align: right;\n",
       "    }\n",
       "</style>\n",
       "<table border=\"1\" class=\"dataframe\">\n",
       "  <thead>\n",
       "    <tr style=\"text-align: right;\">\n",
       "      <th></th>\n",
       "      <th>name</th>\n",
       "      <th>code</th>\n",
       "      <th>country</th>\n",
       "      <th>city</th>\n",
       "      <th>latitude</th>\n",
       "      <th>longitude</th>\n",
       "      <th>imageLink</th>\n",
       "    </tr>\n",
       "  </thead>\n",
       "  <tbody>\n",
       "    <tr>\n",
       "      <th>0</th>\n",
       "      <td>Incirlik</td>\n",
       "      <td>LTAG</td>\n",
       "      <td>Turkey</td>\n",
       "      <td>Adana</td>\n",
       "      <td>37.000000</td>\n",
       "      <td>35.419998</td>\n",
       "      <td>-</td>\n",
       "    </tr>\n",
       "    <tr>\n",
       "      <th>1</th>\n",
       "      <td>Altus AFB</td>\n",
       "      <td>KLTS</td>\n",
       "      <td>United States</td>\n",
       "      <td>Altus</td>\n",
       "      <td>34.666458</td>\n",
       "      <td>-99.267998</td>\n",
       "      <td>-</td>\n",
       "    </tr>\n",
       "    <tr>\n",
       "      <th>2</th>\n",
       "      <td>Andersen AFB</td>\n",
       "      <td>PGUA</td>\n",
       "      <td>Guam</td>\n",
       "      <td>Andersen</td>\n",
       "      <td>13.583890</td>\n",
       "      <td>144.929993</td>\n",
       "      <td>-</td>\n",
       "    </tr>\n",
       "    <tr>\n",
       "      <th>3</th>\n",
       "      <td>Logistics Support Area Anaconda</td>\n",
       "      <td>OAIX</td>\n",
       "      <td>Afghanistan</td>\n",
       "      <td>Bagram</td>\n",
       "      <td>34.959614</td>\n",
       "      <td>69.270508</td>\n",
       "      <td>-</td>\n",
       "    </tr>\n",
       "    <tr>\n",
       "      <th>4</th>\n",
       "      <td>Vandenberg AFB</td>\n",
       "      <td>KVBG</td>\n",
       "      <td>United States</td>\n",
       "      <td>Lompoc</td>\n",
       "      <td>34.729660</td>\n",
       "      <td>-120.575996</td>\n",
       "      <td>-</td>\n",
       "    </tr>\n",
       "    <tr>\n",
       "      <th>...</th>\n",
       "      <td>...</td>\n",
       "      <td>...</td>\n",
       "      <td>...</td>\n",
       "      <td>...</td>\n",
       "      <td>...</td>\n",
       "      <td>...</td>\n",
       "      <td>...</td>\n",
       "    </tr>\n",
       "    <tr>\n",
       "      <th>58</th>\n",
       "      <td>Adana Sakirpasa Airport</td>\n",
       "      <td>ADA</td>\n",
       "      <td>Turkey</td>\n",
       "      <td>Adana</td>\n",
       "      <td>36.982159</td>\n",
       "      <td>35.280380</td>\n",
       "      <td>https://www.jetphotos.com/photo/8092779</td>\n",
       "    </tr>\n",
       "    <tr>\n",
       "      <th>59</th>\n",
       "      <td>Tbilisi International Airport</td>\n",
       "      <td>TBS</td>\n",
       "      <td>Georgia</td>\n",
       "      <td>Tbilisi</td>\n",
       "      <td>41.669159</td>\n",
       "      <td>44.954720</td>\n",
       "      <td>https://www.jetphotos.com/photo/6978963</td>\n",
       "    </tr>\n",
       "    <tr>\n",
       "      <th>60</th>\n",
       "      <td>Kyiv Boryspil International Airport</td>\n",
       "      <td>KBP</td>\n",
       "      <td>Ukraine</td>\n",
       "      <td>Kyiv</td>\n",
       "      <td>50.345001</td>\n",
       "      <td>30.894720</td>\n",
       "      <td>https://www.jetphotos.com/photo/9705811</td>\n",
       "    </tr>\n",
       "    <tr>\n",
       "      <th>61</th>\n",
       "      <td>Pardubice Airport</td>\n",
       "      <td>PED</td>\n",
       "      <td>Czechia</td>\n",
       "      <td>Pardubice</td>\n",
       "      <td>50.013409</td>\n",
       "      <td>15.738640</td>\n",
       "      <td>https://www.jetphotos.com/photo/9359650</td>\n",
       "    </tr>\n",
       "    <tr>\n",
       "      <th>62</th>\n",
       "      <td>Kabul International Airport</td>\n",
       "      <td>KBL</td>\n",
       "      <td>Afghanistan</td>\n",
       "      <td>Kabul</td>\n",
       "      <td>34.565842</td>\n",
       "      <td>69.212410</td>\n",
       "      <td>https://www.jetphotos.com/photo/8565402</td>\n",
       "    </tr>\n",
       "  </tbody>\n",
       "</table>\n",
       "<p>63 rows × 7 columns</p>\n",
       "</div>"
      ],
      "text/plain": [
       "                                   name  code        country       city  \\\n",
       "0                              Incirlik  LTAG         Turkey      Adana   \n",
       "1                             Altus AFB  KLTS  United States      Altus   \n",
       "2                          Andersen AFB  PGUA           Guam   Andersen   \n",
       "3       Logistics Support Area Anaconda  OAIX    Afghanistan     Bagram   \n",
       "4                        Vandenberg AFB  KVBG  United States     Lompoc   \n",
       "..                                  ...   ...            ...        ...   \n",
       "58              Adana Sakirpasa Airport   ADA         Turkey      Adana   \n",
       "59        Tbilisi International Airport   TBS        Georgia    Tbilisi   \n",
       "60  Kyiv Boryspil International Airport   KBP        Ukraine       Kyiv   \n",
       "61                    Pardubice Airport   PED        Czechia  Pardubice   \n",
       "62          Kabul International Airport   KBL    Afghanistan      Kabul   \n",
       "\n",
       "     latitude   longitude                                imageLink  \n",
       "0   37.000000   35.419998                                        -  \n",
       "1   34.666458  -99.267998                                        -  \n",
       "2   13.583890  144.929993                                        -  \n",
       "3   34.959614   69.270508                                        -  \n",
       "4   34.729660 -120.575996                                        -  \n",
       "..        ...         ...                                      ...  \n",
       "58  36.982159   35.280380  https://www.jetphotos.com/photo/8092779  \n",
       "59  41.669159   44.954720  https://www.jetphotos.com/photo/6978963  \n",
       "60  50.345001   30.894720  https://www.jetphotos.com/photo/9705811  \n",
       "61  50.013409   15.738640  https://www.jetphotos.com/photo/9359650  \n",
       "62  34.565842   69.212410  https://www.jetphotos.com/photo/8565402  \n",
       "\n",
       "[63 rows x 7 columns]"
      ]
     },
     "execution_count": 4,
     "metadata": {},
     "output_type": "execute_result"
    }
   ],
   "source": [
    "data = pd.read_csv('/Users/mac/Desktop/afbDetails.csv')\n",
    "#Удаляем дубликаты\n",
    "data.drop_duplicates()\n",
    "\n",
    "#Отображаем таблицу\n",
    "data"
   ]
  },
  {
   "cell_type": "code",
   "execution_count": 69,
   "metadata": {
    "scrolled": true
   },
   "outputs": [
    {
     "data": {
      "text/plain": [
       "'Turkish Airlines'"
      ]
     },
     "execution_count": 69,
     "metadata": {},
     "output_type": "execute_result"
    }
   ],
   "source": [
    "#Получаем название авиалинии\n",
    "#a = f.get_airport_arrivals('FRU')\n",
    "#a[0]['flight']['airline']['name']"
   ]
  },
  {
   "cell_type": "code",
   "execution_count": 8,
   "metadata": {},
   "outputs": [
    {
     "data": {
      "text/html": [
       "<div>\n",
       "<style scoped>\n",
       "    .dataframe tbody tr th:only-of-type {\n",
       "        vertical-align: middle;\n",
       "    }\n",
       "\n",
       "    .dataframe tbody tr th {\n",
       "        vertical-align: top;\n",
       "    }\n",
       "\n",
       "    .dataframe thead th {\n",
       "        text-align: right;\n",
       "    }\n",
       "</style>\n",
       "<table border=\"1\" class=\"dataframe\">\n",
       "  <thead>\n",
       "    <tr style=\"text-align: right;\">\n",
       "      <th></th>\n",
       "      <th>name</th>\n",
       "      <th>code</th>\n",
       "      <th>country</th>\n",
       "      <th>city</th>\n",
       "      <th>latitude</th>\n",
       "      <th>longitude</th>\n",
       "      <th>imageLink</th>\n",
       "    </tr>\n",
       "  </thead>\n",
       "  <tbody>\n",
       "    <tr>\n",
       "      <th>0</th>\n",
       "      <td>Incirlik</td>\n",
       "      <td>LTAG</td>\n",
       "      <td>Turkey</td>\n",
       "      <td>Adana</td>\n",
       "      <td>37</td>\n",
       "      <td>35.419998</td>\n",
       "      <td>-</td>\n",
       "    </tr>\n",
       "    <tr>\n",
       "      <th>1</th>\n",
       "      <td>Altus AFB</td>\n",
       "      <td>KLTS</td>\n",
       "      <td>United States</td>\n",
       "      <td>Altus</td>\n",
       "      <td>34.6665</td>\n",
       "      <td>-99.267998</td>\n",
       "      <td>-</td>\n",
       "    </tr>\n",
       "    <tr>\n",
       "      <th>2</th>\n",
       "      <td>Andersen AFB</td>\n",
       "      <td>PGUA</td>\n",
       "      <td>Guam</td>\n",
       "      <td>Andersen</td>\n",
       "      <td>13.5839</td>\n",
       "      <td>144.929993</td>\n",
       "      <td>-</td>\n",
       "    </tr>\n",
       "    <tr>\n",
       "      <th>3</th>\n",
       "      <td>Logistics Support Area Anaconda</td>\n",
       "      <td>OAIX</td>\n",
       "      <td>Afghanistan</td>\n",
       "      <td>Bagram</td>\n",
       "      <td>34.9596</td>\n",
       "      <td>69.270508</td>\n",
       "      <td>-</td>\n",
       "    </tr>\n",
       "    <tr>\n",
       "      <th>4</th>\n",
       "      <td>Vandenberg AFB</td>\n",
       "      <td>KVBG</td>\n",
       "      <td>United States</td>\n",
       "      <td>Lompoc</td>\n",
       "      <td>34.7297</td>\n",
       "      <td>-120.575996</td>\n",
       "      <td>-</td>\n",
       "    </tr>\n",
       "    <tr>\n",
       "      <th>...</th>\n",
       "      <td>...</td>\n",
       "      <td>...</td>\n",
       "      <td>...</td>\n",
       "      <td>...</td>\n",
       "      <td>...</td>\n",
       "      <td>...</td>\n",
       "      <td>...</td>\n",
       "    </tr>\n",
       "    <tr>\n",
       "      <th>58</th>\n",
       "      <td>Adana Sakirpasa Airport</td>\n",
       "      <td>ADA</td>\n",
       "      <td>Turkey</td>\n",
       "      <td>Adana</td>\n",
       "      <td>36.9822</td>\n",
       "      <td>35.280380</td>\n",
       "      <td>https://www.jetphotos.com/photo/8092779</td>\n",
       "    </tr>\n",
       "    <tr>\n",
       "      <th>59</th>\n",
       "      <td>Tbilisi International Airport</td>\n",
       "      <td>TBS</td>\n",
       "      <td>Georgia</td>\n",
       "      <td>Tbilisi</td>\n",
       "      <td>41.6692</td>\n",
       "      <td>44.954720</td>\n",
       "      <td>https://www.jetphotos.com/photo/6978963</td>\n",
       "    </tr>\n",
       "    <tr>\n",
       "      <th>60</th>\n",
       "      <td>Kyiv Boryspil International Airport</td>\n",
       "      <td>KBP</td>\n",
       "      <td>Ukraine</td>\n",
       "      <td>Kyiv</td>\n",
       "      <td>50.345</td>\n",
       "      <td>30.894720</td>\n",
       "      <td>https://www.jetphotos.com/photo/9705811</td>\n",
       "    </tr>\n",
       "    <tr>\n",
       "      <th>61</th>\n",
       "      <td>Pardubice Airport</td>\n",
       "      <td>PED</td>\n",
       "      <td>Czechia</td>\n",
       "      <td>Pardubice</td>\n",
       "      <td>50.0134</td>\n",
       "      <td>15.738640</td>\n",
       "      <td>https://www.jetphotos.com/photo/9359650</td>\n",
       "    </tr>\n",
       "    <tr>\n",
       "      <th>62</th>\n",
       "      <td>Kabul International Airport</td>\n",
       "      <td>KBL</td>\n",
       "      <td>Afghanistan</td>\n",
       "      <td>Kabul</td>\n",
       "      <td>34.5658</td>\n",
       "      <td>69.212410</td>\n",
       "      <td>https://www.jetphotos.com/photo/8565402</td>\n",
       "    </tr>\n",
       "  </tbody>\n",
       "</table>\n",
       "<p>63 rows × 7 columns</p>\n",
       "</div>"
      ],
      "text/plain": [
       "                                   name  code        country       city  \\\n",
       "0                              Incirlik  LTAG         Turkey      Adana   \n",
       "1                             Altus AFB  KLTS  United States      Altus   \n",
       "2                          Andersen AFB  PGUA           Guam   Andersen   \n",
       "3       Logistics Support Area Anaconda  OAIX    Afghanistan     Bagram   \n",
       "4                        Vandenberg AFB  KVBG  United States     Lompoc   \n",
       "..                                  ...   ...            ...        ...   \n",
       "58              Adana Sakirpasa Airport   ADA         Turkey      Adana   \n",
       "59        Tbilisi International Airport   TBS        Georgia    Tbilisi   \n",
       "60  Kyiv Boryspil International Airport   KBP        Ukraine       Kyiv   \n",
       "61                    Pardubice Airport   PED        Czechia  Pardubice   \n",
       "62          Kabul International Airport   KBL    Afghanistan      Kabul   \n",
       "\n",
       "   latitude   longitude                                imageLink  \n",
       "0        37   35.419998                                        -  \n",
       "1   34.6665  -99.267998                                        -  \n",
       "2   13.5839  144.929993                                        -  \n",
       "3   34.9596   69.270508                                        -  \n",
       "4   34.7297 -120.575996                                        -  \n",
       "..      ...         ...                                      ...  \n",
       "58  36.9822   35.280380  https://www.jetphotos.com/photo/8092779  \n",
       "59  41.6692   44.954720  https://www.jetphotos.com/photo/6978963  \n",
       "60   50.345   30.894720  https://www.jetphotos.com/photo/9705811  \n",
       "61  50.0134   15.738640  https://www.jetphotos.com/photo/9359650  \n",
       "62  34.5658   69.212410  https://www.jetphotos.com/photo/8565402  \n",
       "\n",
       "[63 rows x 7 columns]"
      ]
     },
     "execution_count": 8,
     "metadata": {},
     "output_type": "execute_result"
    }
   ],
   "source": [
    "data"
   ]
  },
  {
   "cell_type": "code",
   "execution_count": 11,
   "metadata": {},
   "outputs": [
    {
     "data": {
      "text/html": [
       "<div>\n",
       "<style scoped>\n",
       "    .dataframe tbody tr th:only-of-type {\n",
       "        vertical-align: middle;\n",
       "    }\n",
       "\n",
       "    .dataframe tbody tr th {\n",
       "        vertical-align: top;\n",
       "    }\n",
       "\n",
       "    .dataframe thead th {\n",
       "        text-align: right;\n",
       "    }\n",
       "</style>\n",
       "<table border=\"1\" class=\"dataframe\">\n",
       "  <thead>\n",
       "    <tr style=\"text-align: right;\">\n",
       "      <th></th>\n",
       "      <th>today</th>\n",
       "      <th>afb</th>\n",
       "      <th>text</th>\n",
       "      <th>activity</th>\n",
       "    </tr>\n",
       "  </thead>\n",
       "  <tbody>\n",
       "    <tr>\n",
       "      <th>33</th>\n",
       "      <td>2021-07-15</td>\n",
       "      <td>BGTL</td>\n",
       "      <td>1</td>\n",
       "      <td>82</td>\n",
       "    </tr>\n",
       "    <tr>\n",
       "      <th>34</th>\n",
       "      <td>2021-07-15</td>\n",
       "      <td>BIKF</td>\n",
       "      <td>96</td>\n",
       "      <td>4</td>\n",
       "    </tr>\n",
       "    <tr>\n",
       "      <th>35</th>\n",
       "      <td>2021-07-15</td>\n",
       "      <td>DNA</td>\n",
       "      <td>3</td>\n",
       "      <td>8</td>\n",
       "    </tr>\n",
       "    <tr>\n",
       "      <th>36</th>\n",
       "      <td>2021-07-15</td>\n",
       "      <td>FRU</td>\n",
       "      <td>58</td>\n",
       "      <td>71</td>\n",
       "    </tr>\n",
       "    <tr>\n",
       "      <th>37</th>\n",
       "      <td>2021-07-15</td>\n",
       "      <td>KADW</td>\n",
       "      <td>2</td>\n",
       "      <td>41</td>\n",
       "    </tr>\n",
       "    <tr>\n",
       "      <th>38</th>\n",
       "      <td>2021-07-15</td>\n",
       "      <td>KLTS</td>\n",
       "      <td>1</td>\n",
       "      <td>40</td>\n",
       "    </tr>\n",
       "    <tr>\n",
       "      <th>39</th>\n",
       "      <td>2021-07-15</td>\n",
       "      <td>KROW</td>\n",
       "      <td>25</td>\n",
       "      <td>6</td>\n",
       "    </tr>\n",
       "    <tr>\n",
       "      <th>40</th>\n",
       "      <td>2021-07-15</td>\n",
       "      <td>KUV</td>\n",
       "      <td>5</td>\n",
       "      <td>45</td>\n",
       "    </tr>\n",
       "    <tr>\n",
       "      <th>41</th>\n",
       "      <td>2021-07-15</td>\n",
       "      <td>KVBG</td>\n",
       "      <td>2</td>\n",
       "      <td>18</td>\n",
       "    </tr>\n",
       "    <tr>\n",
       "      <th>42</th>\n",
       "      <td>2021-07-15</td>\n",
       "      <td>PAED</td>\n",
       "      <td>2</td>\n",
       "      <td>96</td>\n",
       "    </tr>\n",
       "    <tr>\n",
       "      <th>43</th>\n",
       "      <td>2021-07-15</td>\n",
       "      <td>PGUA</td>\n",
       "      <td>3</td>\n",
       "      <td>52</td>\n",
       "    </tr>\n",
       "  </tbody>\n",
       "</table>\n",
       "</div>"
      ],
      "text/plain": [
       "        today   afb  text  activity\n",
       "33 2021-07-15  BGTL     1        82\n",
       "34 2021-07-15  BIKF    96         4\n",
       "35 2021-07-15   DNA     3         8\n",
       "36 2021-07-15   FRU    58        71\n",
       "37 2021-07-15  KADW     2        41\n",
       "38 2021-07-15  KLTS     1        40\n",
       "39 2021-07-15  KROW    25         6\n",
       "40 2021-07-15   KUV     5        45\n",
       "41 2021-07-15  KVBG     2        18\n",
       "42 2021-07-15  PAED     2        96\n",
       "43 2021-07-15  PGUA     3        52"
      ]
     },
     "execution_count": 11,
     "metadata": {},
     "output_type": "execute_result"
    }
   ],
   "source": [
    "data1 = pd.read_csv('/Users/mac/Desktop/concat.csv')\n",
    "data1 = data1.groupby(['today','afb']).agg({'text':'size'}).reset_index(level=['today','afb'])\n",
    "data1[\"today\"] = pd.to_datetime(data1[\"today\"], format=\"%Y-%m-%d\")\n",
    "\n",
    "data1['activity'] = [random.randint(1,100)  for k in data1.index]\n",
    "data1\n",
    "data1[data1.today == '2021-07-15']\n"
   ]
  },
  {
   "cell_type": "code",
   "execution_count": 58,
   "metadata": {},
   "outputs": [
    {
     "data": {
      "application/vnd.plotly.v1+json": {
       "config": {
        "plotlyServerURL": "https://plot.ly"
       },
       "data": [
        {
         "customdata": [
          [
           "Turkey",
           "Incirlik, Adana, Turkey",
           37,
           35.419998
          ],
          [
           "Turkey",
           "Izmir Adnan Menderes International Airport, Izmir, Turkey",
           38.292389,
           27.15695
          ],
          [
           "Turkey",
           "Adana Sakirpasa Airport, Adana, Turkey",
           36.982159,
           35.28038
          ]
         ],
         "geo": "geo",
         "hovertemplate": "<b>%{hovertext}</b><br><br>activity=%{marker.size}<extra></extra>",
         "hovertext": [
          "Incirlik, Adana, Turkey",
          "Izmir Adnan Menderes International Airport, Izmir, Turkey",
          "Adana Sakirpasa Airport, Adana, Turkey"
         ],
         "lat": [
          37,
          38.292389,
          36.982159
         ],
         "legendgroup": "Turkey",
         "lon": [
          35.419998,
          27.15695,
          35.28038
         ],
         "marker": {
          "color": "#636efa",
          "size": [
           21,
           90,
           41
          ],
          "sizemode": "area",
          "sizeref": 0.2475
         },
         "name": "Turkey",
         "showlegend": true,
         "text": [
          "Incirlik, Adana, Turkey",
          "Izmir Adnan Menderes International Airport, Izmir, Turkey",
          "Adana Sakirpasa Airport, Adana, Turkey"
         ],
         "type": "scattergeo"
        },
        {
         "customdata": [
          [
           "United States",
           "Altus AFB, Altus, United States",
           34.666458,
           -99.26799799999999
          ],
          [
           "United States",
           "Vandenberg AFB, Lompoc, United States",
           34.729659999999996,
           -120.57599599999999
          ],
          [
           "United States",
           "Dyess AFB, Abilene, United States",
           32.42083,
           -99.854599
          ],
          [
           "United States",
           "Davis Monthan AFB, Tucson, United States",
           32.1665,
           -110.883003
          ],
          [
           "United States",
           "Langley AFB, Hampton, United States",
           37.082829,
           -76.360497
          ],
          [
           "United States",
           "Nellis AFB, Las Vegas, United States",
           36.236191,
           -115.033997
          ],
          [
           "United States",
           "Offutt AFB, Omaha, United States",
           41.118328000000005,
           -95.912498
          ],
          [
           "United States",
           "Roswell International Air Center Airport, Roswell, United States",
           33.301552,
           -104.529999
          ],
          [
           "United States",
           "Whiteman AFB, Knob Noster, United States",
           38.730289,
           -93.54789699999999
          ],
          [
           "United States",
           "Edwards AFB, Edwards, United States",
           34.90855,
           -117.883003
          ],
          [
           "United States",
           "Anchorage Elmendorf Air Force Base, Anchorage, United States",
           61.251339,
           -149.806
          ],
          [
           "United States",
           "Andrews Air Force Base, Camp Springs, United States",
           38.810829,
           -76.866997
          ],
          [
           "United States",
           "Volk Field, Camp Douglas, United States",
           43.937057,
           -90.25688199999999
          ],
          [
           "United States",
           "Riverside March Air Reserve Base, Riverside, United States",
           33.880711,
           -117.259003
          ],
          [
           "United States",
           "Fairfield Travis Air Force Base, Fairfield, United States",
           38.262661,
           -121.927002
          ],
          [
           "United States",
           "Los Angeles Whiteman Airport, Los Angeles, United States",
           34.259322999999995,
           -118.41342900000001
          ]
         ],
         "geo": "geo",
         "hovertemplate": "<b>%{hovertext}</b><br><br>activity=%{marker.size}<extra></extra>",
         "hovertext": [
          "Altus AFB, Altus, United States",
          "Vandenberg AFB, Lompoc, United States",
          "Dyess AFB, Abilene, United States",
          "Davis Monthan AFB, Tucson, United States",
          "Langley AFB, Hampton, United States",
          "Nellis AFB, Las Vegas, United States",
          "Offutt AFB, Omaha, United States",
          "Roswell International Air Center Airport, Roswell, United States",
          "Whiteman AFB, Knob Noster, United States",
          "Edwards AFB, Edwards, United States",
          "Anchorage Elmendorf Air Force Base, Anchorage, United States",
          "Andrews Air Force Base, Camp Springs, United States",
          "Volk Field, Camp Douglas, United States",
          "Riverside March Air Reserve Base, Riverside, United States",
          "Fairfield Travis Air Force Base, Fairfield, United States",
          "Los Angeles Whiteman Airport, Los Angeles, United States"
         ],
         "lat": [
          34.666458,
          34.729659999999996,
          32.42083,
          32.1665,
          37.082829,
          36.236191,
          41.118328000000005,
          33.301552,
          38.730289,
          34.90855,
          61.251339,
          38.810829,
          43.937057,
          33.880711,
          38.262661,
          34.259322999999995
         ],
         "legendgroup": "United States",
         "lon": [
          -99.26799799999999,
          -120.57599599999999,
          -99.854599,
          -110.883003,
          -76.360497,
          -115.033997,
          -95.912498,
          -104.529999,
          -93.54789699999999,
          -117.883003,
          -149.806,
          -76.866997,
          -90.25688199999999,
          -117.259003,
          -121.927002,
          -118.41342900000001
         ],
         "marker": {
          "color": "#EF553B",
          "size": [
           57,
           18,
           9,
           73,
           80,
           55,
           64,
           75,
           91,
           52,
           13,
           58,
           34,
           85,
           13,
           53
          ],
          "sizemode": "area",
          "sizeref": 0.2475
         },
         "name": "United States",
         "showlegend": true,
         "text": [
          "Altus AFB, Altus, United States",
          "Vandenberg AFB, Lompoc, United States",
          "Dyess AFB, Abilene, United States",
          "Davis Monthan AFB, Tucson, United States",
          "Langley AFB, Hampton, United States",
          "Nellis AFB, Las Vegas, United States",
          "Offutt AFB, Omaha, United States",
          "Roswell International Air Center Airport, Roswell, United States",
          "Whiteman AFB, Knob Noster, United States",
          "Edwards AFB, Edwards, United States",
          "Anchorage Elmendorf Air Force Base, Anchorage, United States",
          "Andrews Air Force Base, Camp Springs, United States",
          "Volk Field, Camp Douglas, United States",
          "Riverside March Air Reserve Base, Riverside, United States",
          "Fairfield Travis Air Force Base, Fairfield, United States",
          "Los Angeles Whiteman Airport, Los Angeles, United States"
         ],
         "type": "scattergeo"
        },
        {
         "customdata": [
          [
           "Guam",
           "Andersen AFB, Andersen, Guam",
           13.58389,
           144.929993
          ]
         ],
         "geo": "geo",
         "hovertemplate": "<b>%{hovertext}</b><br><br>activity=%{marker.size}<extra></extra>",
         "hovertext": [
          "Andersen AFB, Andersen, Guam"
         ],
         "lat": [
          13.58389
         ],
         "legendgroup": "Guam",
         "lon": [
          144.929993
         ],
         "marker": {
          "color": "#00cc96",
          "size": [
           45
          ],
          "sizemode": "area",
          "sizeref": 0.2475
         },
         "name": "Guam",
         "showlegend": true,
         "text": [
          "Andersen AFB, Andersen, Guam"
         ],
         "type": "scattergeo"
        },
        {
         "customdata": [
          [
           "Afghanistan",
           "Logistics Support Area Anaconda, Bagram, Afghanistan",
           34.959614,
           69.27050799999999
          ],
          [
           "Afghanistan",
           "Kabul International Airport, Kabul, Afghanistan",
           34.565841999999996,
           69.21240999999999
          ]
         ],
         "geo": "geo",
         "hovertemplate": "<b>%{hovertext}</b><br><br>activity=%{marker.size}<extra></extra>",
         "hovertext": [
          "Logistics Support Area Anaconda, Bagram, Afghanistan",
          "Kabul International Airport, Kabul, Afghanistan"
         ],
         "lat": [
          34.959614,
          34.565841999999996
         ],
         "legendgroup": "Afghanistan",
         "lon": [
          69.27050799999999,
          69.21240999999999
         ],
         "marker": {
          "color": "#ab63fa",
          "size": [
           14,
           82
          ],
          "sizemode": "area",
          "sizeref": 0.2475
         },
         "name": "Afghanistan",
         "showlegend": true,
         "text": [
          "Logistics Support Area Anaconda, Bagram, Afghanistan",
          "Kabul International Airport, Kabul, Afghanistan"
         ],
         "type": "scattergeo"
        },
        {
         "customdata": [
          [
           "Japan",
           "Kadena AB, Okinawa, Japan",
           26.35561,
           127.767601
          ]
         ],
         "geo": "geo",
         "hovertemplate": "<b>%{hovertext}</b><br><br>activity=%{marker.size}<extra></extra>",
         "hovertext": [
          "Kadena AB, Okinawa, Japan"
         ],
         "lat": [
          26.35561
         ],
         "legendgroup": "Japan",
         "lon": [
          127.767601
         ],
         "marker": {
          "color": "#FFA15A",
          "size": [
           10
          ],
          "sizemode": "area",
          "sizeref": 0.2475
         },
         "name": "Japan",
         "showlegend": true,
         "text": [
          "Kadena AB, Okinawa, Japan"
         ],
         "type": "scattergeo"
        },
        {
         "customdata": [
          [
           "Iceland",
           "Keflavik International Airport, Reykjavik, Iceland",
           63.985001000000004,
           -22.605499
          ]
         ],
         "geo": "geo",
         "hovertemplate": "<b>%{hovertext}</b><br><br>activity=%{marker.size}<extra></extra>",
         "hovertext": [
          "Keflavik International Airport, Reykjavik, Iceland"
         ],
         "lat": [
          63.985001000000004
         ],
         "legendgroup": "Iceland",
         "lon": [
          -22.605499
         ],
         "marker": {
          "color": "#19d3f3",
          "size": [
           89
          ],
          "sizemode": "area",
          "sizeref": 0.2475
         },
         "name": "Iceland",
         "showlegend": true,
         "text": [
          "Keflavik International Airport, Reykjavik, Iceland"
         ],
         "type": "scattergeo"
        },
        {
         "customdata": [
          [
           "South Korea",
           "Gunsan Airport, Gunsan, South Korea",
           35.90361,
           126.615829
          ]
         ],
         "geo": "geo",
         "hovertemplate": "<b>%{hovertext}</b><br><br>activity=%{marker.size}<extra></extra>",
         "hovertext": [
          "Gunsan Airport, Gunsan, South Korea"
         ],
         "lat": [
          35.90361
         ],
         "legendgroup": "South Korea",
         "lon": [
          126.615829
         ],
         "marker": {
          "color": "#FF6692",
          "size": [
           45
          ],
          "sizemode": "area",
          "sizeref": 0.2475
         },
         "name": "South Korea",
         "showlegend": true,
         "text": [
          "Gunsan Airport, Gunsan, South Korea"
         ],
         "type": "scattergeo"
        },
        {
         "customdata": [
          [
           "United Kingdom",
           "RAF Lakenheath, Lakenheath, United Kingdom",
           52.409302000000004,
           0.561
          ],
          [
           "United Kingdom",
           "RAF Mildenhall, Mildenhall, United Kingdom",
           52.361931,
           0.48640600000000006
          ],
          [
           "United Kingdom",
           "Fairford, Fairford, United Kingdom",
           51.682159000000006,
           -1.7900200000000002
          ]
         ],
         "geo": "geo",
         "hovertemplate": "<b>%{hovertext}</b><br><br>activity=%{marker.size}<extra></extra>",
         "hovertext": [
          "RAF Lakenheath, Lakenheath, United Kingdom",
          "RAF Mildenhall, Mildenhall, United Kingdom",
          "Fairford, Fairford, United Kingdom"
         ],
         "lat": [
          52.409302000000004,
          52.361931,
          51.682159000000006
         ],
         "legendgroup": "United Kingdom",
         "lon": [
          0.561,
          0.48640600000000006,
          -1.7900200000000002
         ],
         "marker": {
          "color": "#B6E880",
          "size": [
           24,
           97,
           92
          ],
          "sizemode": "area",
          "sizeref": 0.2475
         },
         "name": "United Kingdom",
         "showlegend": true,
         "text": [
          "RAF Lakenheath, Lakenheath, United Kingdom",
          "RAF Mildenhall, Mildenhall, United Kingdom",
          "Fairford, Fairford, United Kingdom"
         ],
         "type": "scattergeo"
        },
        {
         "customdata": [
          [
           "Kyrgyzstan",
           "Bishkek Manas International Airport, Bishkek, Kyrgyzstan",
           43.061298,
           74.477547
          ]
         ],
         "geo": "geo",
         "hovertemplate": "<b>%{hovertext}</b><br><br>activity=%{marker.size}<extra></extra>",
         "hovertext": [
          "Bishkek Manas International Airport, Bishkek, Kyrgyzstan"
         ],
         "lat": [
          43.061298
         ],
         "legendgroup": "Kyrgyzstan",
         "lon": [
          74.477547
         ],
         "marker": {
          "color": "#FF97FF",
          "size": [
           80
          ],
          "sizemode": "area",
          "sizeref": 0.2475
         },
         "name": "Kyrgyzstan",
         "showlegend": true,
         "text": [
          "Bishkek Manas International Airport, Bishkek, Kyrgyzstan"
         ],
         "type": "scattergeo"
        },
        {
         "customdata": [
          [
           "Germany",
           "Ramstein Air Base, Ramstein, Germany",
           49.436909,
           7.600283
          ]
         ],
         "geo": "geo",
         "hovertemplate": "<b>%{hovertext}</b><br><br>activity=%{marker.size}<extra></extra>",
         "hovertext": [
          "Ramstein Air Base, Ramstein, Germany"
         ],
         "lat": [
          49.436909
         ],
         "legendgroup": "Germany",
         "lon": [
          7.600283
         ],
         "marker": {
          "color": "#FECB52",
          "size": [
           99
          ],
          "sizemode": "area",
          "sizeref": 0.2475
         },
         "name": "Germany",
         "showlegend": true,
         "text": [
          "Ramstein Air Base, Ramstein, Germany"
         ],
         "type": "scattergeo"
        },
        {
         "customdata": [
          [
           "Greenland",
           "Pituffik Airport, Pituffik, Greenland",
           76.533333,
           -68.699997
          ]
         ],
         "geo": "geo",
         "hovertemplate": "<b>%{hovertext}</b><br><br>activity=%{marker.size}<extra></extra>",
         "hovertext": [
          "Pituffik Airport, Pituffik, Greenland"
         ],
         "lat": [
          76.533333
         ],
         "legendgroup": "Greenland",
         "lon": [
          -68.699997
         ],
         "marker": {
          "color": "#636efa",
          "size": [
           46
          ],
          "sizemode": "area",
          "sizeref": 0.2475
         },
         "name": "Greenland",
         "showlegend": true,
         "text": [
          "Pituffik Airport, Pituffik, Greenland"
         ],
         "type": "scattergeo"
        },
        {
         "customdata": [
          [
           "Azerbaijan",
           "Ganja International Airport, Ganja, Azerbaijan",
           40.737778000000006,
           46.317501
          ]
         ],
         "geo": "geo",
         "hovertemplate": "<b>%{hovertext}</b><br><br>activity=%{marker.size}<extra></extra>",
         "hovertext": [
          "Ganja International Airport, Ganja, Azerbaijan"
         ],
         "lat": [
          40.737778000000006
         ],
         "legendgroup": "Azerbaijan",
         "lon": [
          46.317501
         ],
         "marker": {
          "color": "#EF553B",
          "size": [
           6
          ],
          "sizemode": "area",
          "sizeref": 0.2475
         },
         "name": "Azerbaijan",
         "showlegend": true,
         "text": [
          "Ganja International Airport, Ganja, Azerbaijan"
         ],
         "type": "scattergeo"
        },
        {
         "customdata": [
          [
           "Italy",
           "Aviano, Aviano, Italy",
           46.031878999999996,
           12.59647
          ]
         ],
         "geo": "geo",
         "hovertemplate": "<b>%{hovertext}</b><br><br>activity=%{marker.size}<extra></extra>",
         "hovertext": [
          "Aviano, Aviano, Italy"
         ],
         "lat": [
          46.031878999999996
         ],
         "legendgroup": "Italy",
         "lon": [
          12.59647
         ],
         "marker": {
          "color": "#00cc96",
          "size": [
           59
          ],
          "sizemode": "area",
          "sizeref": 0.2475
         },
         "name": "Italy",
         "showlegend": true,
         "text": [
          "Aviano, Aviano, Italy"
         ],
         "type": "scattergeo"
        },
        {
         "customdata": [
          [
           "Estonia",
           "Tartu Airport, Tartu, Estonia",
           58.307460999999996,
           26.69042
          ],
          [
           "Estonia",
           "Tallinn Lennart Meri Airport , Tallinn, Estonia",
           59.413311,
           24.83284
          ],
          [
           "Estonia",
           "Parnu Airport, Parnu, Estonia",
           58.418999,
           24.472799
          ],
          [
           "Estonia",
           "Kardla Airport, Kardla, Estonia",
           58.990749,
           22.83073
          ]
         ],
         "geo": "geo",
         "hovertemplate": "<b>%{hovertext}</b><br><br>activity=%{marker.size}<extra></extra>",
         "hovertext": [
          "Tartu Airport, Tartu, Estonia",
          "Tallinn Lennart Meri Airport , Tallinn, Estonia",
          "Parnu Airport, Parnu, Estonia",
          "Kardla Airport, Kardla, Estonia"
         ],
         "lat": [
          58.307460999999996,
          59.413311,
          58.418999,
          58.990749
         ],
         "legendgroup": "Estonia",
         "lon": [
          26.69042,
          24.83284,
          24.472799,
          22.83073
         ],
         "marker": {
          "color": "#ab63fa",
          "size": [
           19,
           8,
           36,
           50
          ],
          "sizemode": "area",
          "sizeref": 0.2475
         },
         "name": "Estonia",
         "showlegend": true,
         "text": [
          "Tartu Airport, Tartu, Estonia",
          "Tallinn Lennart Meri Airport , Tallinn, Estonia",
          "Parnu Airport, Parnu, Estonia",
          "Kardla Airport, Kardla, Estonia"
         ],
         "type": "scattergeo"
        },
        {
         "customdata": [
          [
           "Latvia",
           "Riga International Airport, Riga, Latvia",
           56.923611,
           23.971109
          ],
          [
           "Latvia",
           "Ventspils International Airport, Ventspils, Latvia",
           57.349998,
           21.540001
          ],
          [
           "Latvia",
           "Liepaja Airport, Liepaja, Latvia",
           56.517502,
           21.096939000000003
          ]
         ],
         "geo": "geo",
         "hovertemplate": "<b>%{hovertext}</b><br><br>activity=%{marker.size}<extra></extra>",
         "hovertext": [
          "Riga International Airport, Riga, Latvia",
          "Ventspils International Airport, Ventspils, Latvia",
          "Liepaja Airport, Liepaja, Latvia"
         ],
         "lat": [
          56.923611,
          57.349998,
          56.517502
         ],
         "legendgroup": "Latvia",
         "lon": [
          23.971109,
          21.540001,
          21.096939000000003
         ],
         "marker": {
          "color": "#FFA15A",
          "size": [
           37,
           93,
           11
          ],
          "sizemode": "area",
          "sizeref": 0.2475
         },
         "name": "Latvia",
         "showlegend": true,
         "text": [
          "Riga International Airport, Riga, Latvia",
          "Ventspils International Airport, Ventspils, Latvia",
          "Liepaja Airport, Liepaja, Latvia"
         ],
         "type": "scattergeo"
        },
        {
         "customdata": [
          [
           "Lithuania",
           "Vilnius International Airport, Vilnius, Lithuania",
           54.637069999999994,
           25.2878
          ],
          [
           "Lithuania",
           "Kaunas Airport, Kaunas, Lithuania",
           54.963908999999994,
           24.084770000000002
          ],
          [
           "Lithuania",
           "Siauliai International Airport, Siauliai, Lithuania",
           55.893879000000005,
           23.39497
          ],
          [
           "Lithuania",
           "Palanga International Airport, Palanga, Lithuania",
           55.973220999999995,
           21.093849
          ]
         ],
         "geo": "geo",
         "hovertemplate": "<b>%{hovertext}</b><br><br>activity=%{marker.size}<extra></extra>",
         "hovertext": [
          "Vilnius International Airport, Vilnius, Lithuania",
          "Kaunas Airport, Kaunas, Lithuania",
          "Siauliai International Airport, Siauliai, Lithuania",
          "Palanga International Airport, Palanga, Lithuania"
         ],
         "lat": [
          54.637069999999994,
          54.963908999999994,
          55.893879000000005,
          55.973220999999995
         ],
         "legendgroup": "Lithuania",
         "lon": [
          25.2878,
          24.084770000000002,
          23.39497,
          21.093849
         ],
         "marker": {
          "color": "#19d3f3",
          "size": [
           73,
           37,
           3,
           44
          ],
          "sizemode": "area",
          "sizeref": 0.2475
         },
         "name": "Lithuania",
         "showlegend": true,
         "text": [
          "Vilnius International Airport, Vilnius, Lithuania",
          "Kaunas Airport, Kaunas, Lithuania",
          "Siauliai International Airport, Siauliai, Lithuania",
          "Palanga International Airport, Palanga, Lithuania"
         ],
         "type": "scattergeo"
        },
        {
         "customdata": [
          [
           "Poland",
           "Gdansk Lech Walesa Airport, Gdansk, Poland",
           54.377559999999995,
           18.466221
          ],
          [
           "Poland",
           "Szczecin Goleniow Airport, Szczecin, Poland",
           53.584728000000005,
           14.9022
          ],
          [
           "Poland",
           "Bydgoszcz Ignacy Jan Paderewski Airport, Bydgoszcz, Poland",
           53.096802000000004,
           17.977659
          ],
          [
           "Poland",
           "Poznan Lawica Airport, Poznan, Poland",
           52.421028,
           16.826321
          ],
          [
           "Poland",
           "Warsaw Modlin Airport, Warsaw, Poland",
           52.451111,
           20.651667
          ],
          [
           "Poland",
           "Warsaw Chopin Airport, Warsaw, Poland",
           52.165749,
           20.967119
          ],
          [
           "Poland",
           "Lodz Wladyslaw Reymont Airport, Lodz, Poland",
           51.721882,
           19.39813
          ],
          [
           "Poland",
           "Lublin Airport, Lublin, Poland",
           51.240002000000004,
           22.713333
          ],
          [
           "Poland",
           "Wroclaw Copernicus Airport, Wroclaw, Poland",
           51.10268,
           16.88583
          ],
          [
           "Poland",
           "Katowice International Airport, Katowice, Poland",
           50.474251,
           19.080009
          ],
          [
           "Poland",
           "Krakow John Paul II International Airport, Krakow, Poland",
           50.077728,
           19.78483
          ],
          [
           "Poland",
           "Rzeszow Jasionka Airport, Rzeszow, Poland",
           50.109951,
           22.018998999999997
          ]
         ],
         "geo": "geo",
         "hovertemplate": "<b>%{hovertext}</b><br><br>activity=%{marker.size}<extra></extra>",
         "hovertext": [
          "Gdansk Lech Walesa Airport, Gdansk, Poland",
          "Szczecin Goleniow Airport, Szczecin, Poland",
          "Bydgoszcz Ignacy Jan Paderewski Airport, Bydgoszcz, Poland",
          "Poznan Lawica Airport, Poznan, Poland",
          "Warsaw Modlin Airport, Warsaw, Poland",
          "Warsaw Chopin Airport, Warsaw, Poland",
          "Lodz Wladyslaw Reymont Airport, Lodz, Poland",
          "Lublin Airport, Lublin, Poland",
          "Wroclaw Copernicus Airport, Wroclaw, Poland",
          "Katowice International Airport, Katowice, Poland",
          "Krakow John Paul II International Airport, Krakow, Poland",
          "Rzeszow Jasionka Airport, Rzeszow, Poland"
         ],
         "lat": [
          54.377559999999995,
          53.584728000000005,
          53.096802000000004,
          52.421028,
          52.451111,
          52.165749,
          51.721882,
          51.240002000000004,
          51.10268,
          50.474251,
          50.077728,
          50.109951
         ],
         "legendgroup": "Poland",
         "lon": [
          18.466221,
          14.9022,
          17.977659,
          16.826321,
          20.651667,
          20.967119,
          19.39813,
          22.713333,
          16.88583,
          19.080009,
          19.78483,
          22.018998999999997
         ],
         "marker": {
          "color": "#FF6692",
          "size": [
           71,
           48,
           35,
           7,
           54,
           16,
           36,
           9,
           94,
           33,
           25,
           36
          ],
          "sizemode": "area",
          "sizeref": 0.2475
         },
         "name": "Poland",
         "showlegend": true,
         "text": [
          "Gdansk Lech Walesa Airport, Gdansk, Poland",
          "Szczecin Goleniow Airport, Szczecin, Poland",
          "Bydgoszcz Ignacy Jan Paderewski Airport, Bydgoszcz, Poland",
          "Poznan Lawica Airport, Poznan, Poland",
          "Warsaw Modlin Airport, Warsaw, Poland",
          "Warsaw Chopin Airport, Warsaw, Poland",
          "Lodz Wladyslaw Reymont Airport, Lodz, Poland",
          "Lublin Airport, Lublin, Poland",
          "Wroclaw Copernicus Airport, Wroclaw, Poland",
          "Katowice International Airport, Katowice, Poland",
          "Krakow John Paul II International Airport, Krakow, Poland",
          "Rzeszow Jasionka Airport, Rzeszow, Poland"
         ],
         "type": "scattergeo"
        },
        {
         "customdata": [
          [
           "Ukraine",
           "Kyiv Zhuliany Airport, Kyiv, Ukraine",
           50.401691,
           30.449690000000004
          ],
          [
           "Ukraine",
           "Rivne International Airport, Rivne, Ukraine",
           50.599998,
           26.15
          ],
          [
           "Ukraine",
           "Kyiv Hostomel Airport, Kyiv, Ukraine",
           50.603611,
           30.191944
          ],
          [
           "Ukraine",
           "Vinnytsia Havryshivka International Airport, Vinnytsia, Ukraine",
           49.243427000000004,
           28.6112
          ],
          [
           "Ukraine",
           "Kyiv Boryspil International Airport, Kyiv, Ukraine",
           50.345001,
           30.89472
          ]
         ],
         "geo": "geo",
         "hovertemplate": "<b>%{hovertext}</b><br><br>activity=%{marker.size}<extra></extra>",
         "hovertext": [
          "Kyiv Zhuliany Airport, Kyiv, Ukraine",
          "Rivne International Airport, Rivne, Ukraine",
          "Kyiv Hostomel Airport, Kyiv, Ukraine",
          "Vinnytsia Havryshivka International Airport, Vinnytsia, Ukraine",
          "Kyiv Boryspil International Airport, Kyiv, Ukraine"
         ],
         "lat": [
          50.401691,
          50.599998,
          50.603611,
          49.243427000000004,
          50.345001
         ],
         "legendgroup": "Ukraine",
         "lon": [
          30.449690000000004,
          26.15,
          30.191944,
          28.6112,
          30.89472
         ],
         "marker": {
          "color": "#B6E880",
          "size": [
           67,
           28,
           28,
           4,
           99
          ],
          "sizemode": "area",
          "sizeref": 0.2475
         },
         "name": "Ukraine",
         "showlegend": true,
         "text": [
          "Kyiv Zhuliany Airport, Kyiv, Ukraine",
          "Rivne International Airport, Rivne, Ukraine",
          "Kyiv Hostomel Airport, Kyiv, Ukraine",
          "Vinnytsia Havryshivka International Airport, Vinnytsia, Ukraine",
          "Kyiv Boryspil International Airport, Kyiv, Ukraine"
         ],
         "type": "scattergeo"
        },
        {
         "customdata": [
          [
           "Georgia",
           "Tbilisi International Airport, Tbilisi, Georgia",
           41.669159,
           44.95472
          ]
         ],
         "geo": "geo",
         "hovertemplate": "<b>%{hovertext}</b><br><br>activity=%{marker.size}<extra></extra>",
         "hovertext": [
          "Tbilisi International Airport, Tbilisi, Georgia"
         ],
         "lat": [
          41.669159
         ],
         "legendgroup": "Georgia",
         "lon": [
          44.95472
         ],
         "marker": {
          "color": "#FF97FF",
          "size": [
           7
          ],
          "sizemode": "area",
          "sizeref": 0.2475
         },
         "name": "Georgia",
         "showlegend": true,
         "text": [
          "Tbilisi International Airport, Tbilisi, Georgia"
         ],
         "type": "scattergeo"
        },
        {
         "customdata": [
          [
           "Czechia",
           "Pardubice Airport, Pardubice, Czechia",
           50.013409,
           15.73864
          ]
         ],
         "geo": "geo",
         "hovertemplate": "<b>%{hovertext}</b><br><br>activity=%{marker.size}<extra></extra>",
         "hovertext": [
          "Pardubice Airport, Pardubice, Czechia"
         ],
         "lat": [
          50.013409
         ],
         "legendgroup": "Czechia",
         "lon": [
          15.73864
         ],
         "marker": {
          "color": "#FECB52",
          "size": [
           65
          ],
          "sizemode": "area",
          "sizeref": 0.2475
         },
         "name": "Czechia",
         "showlegend": true,
         "text": [
          "Pardubice Airport, Pardubice, Czechia"
         ],
         "type": "scattergeo"
        }
       ],
       "layout": {
        "geo": {
         "center": {},
         "domain": {
          "x": [
           0,
           1
          ],
          "y": [
           0,
           1
          ]
         }
        },
        "legend": {
         "itemsizing": "constant",
         "title": {
          "text": "country"
         },
         "tracegroupgap": 0
        },
        "margin": {
         "t": 60
        },
        "template": {
         "data": {
          "bar": [
           {
            "error_x": {
             "color": "#2a3f5f"
            },
            "error_y": {
             "color": "#2a3f5f"
            },
            "marker": {
             "line": {
              "color": "#E5ECF6",
              "width": 0.5
             }
            },
            "type": "bar"
           }
          ],
          "barpolar": [
           {
            "marker": {
             "line": {
              "color": "#E5ECF6",
              "width": 0.5
             }
            },
            "type": "barpolar"
           }
          ],
          "carpet": [
           {
            "aaxis": {
             "endlinecolor": "#2a3f5f",
             "gridcolor": "white",
             "linecolor": "white",
             "minorgridcolor": "white",
             "startlinecolor": "#2a3f5f"
            },
            "baxis": {
             "endlinecolor": "#2a3f5f",
             "gridcolor": "white",
             "linecolor": "white",
             "minorgridcolor": "white",
             "startlinecolor": "#2a3f5f"
            },
            "type": "carpet"
           }
          ],
          "choropleth": [
           {
            "colorbar": {
             "outlinewidth": 0,
             "ticks": ""
            },
            "type": "choropleth"
           }
          ],
          "contour": [
           {
            "colorbar": {
             "outlinewidth": 0,
             "ticks": ""
            },
            "colorscale": [
             [
              0,
              "#0d0887"
             ],
             [
              0.1111111111111111,
              "#46039f"
             ],
             [
              0.2222222222222222,
              "#7201a8"
             ],
             [
              0.3333333333333333,
              "#9c179e"
             ],
             [
              0.4444444444444444,
              "#bd3786"
             ],
             [
              0.5555555555555556,
              "#d8576b"
             ],
             [
              0.6666666666666666,
              "#ed7953"
             ],
             [
              0.7777777777777778,
              "#fb9f3a"
             ],
             [
              0.8888888888888888,
              "#fdca26"
             ],
             [
              1,
              "#f0f921"
             ]
            ],
            "type": "contour"
           }
          ],
          "contourcarpet": [
           {
            "colorbar": {
             "outlinewidth": 0,
             "ticks": ""
            },
            "type": "contourcarpet"
           }
          ],
          "heatmap": [
           {
            "colorbar": {
             "outlinewidth": 0,
             "ticks": ""
            },
            "colorscale": [
             [
              0,
              "#0d0887"
             ],
             [
              0.1111111111111111,
              "#46039f"
             ],
             [
              0.2222222222222222,
              "#7201a8"
             ],
             [
              0.3333333333333333,
              "#9c179e"
             ],
             [
              0.4444444444444444,
              "#bd3786"
             ],
             [
              0.5555555555555556,
              "#d8576b"
             ],
             [
              0.6666666666666666,
              "#ed7953"
             ],
             [
              0.7777777777777778,
              "#fb9f3a"
             ],
             [
              0.8888888888888888,
              "#fdca26"
             ],
             [
              1,
              "#f0f921"
             ]
            ],
            "type": "heatmap"
           }
          ],
          "heatmapgl": [
           {
            "colorbar": {
             "outlinewidth": 0,
             "ticks": ""
            },
            "colorscale": [
             [
              0,
              "#0d0887"
             ],
             [
              0.1111111111111111,
              "#46039f"
             ],
             [
              0.2222222222222222,
              "#7201a8"
             ],
             [
              0.3333333333333333,
              "#9c179e"
             ],
             [
              0.4444444444444444,
              "#bd3786"
             ],
             [
              0.5555555555555556,
              "#d8576b"
             ],
             [
              0.6666666666666666,
              "#ed7953"
             ],
             [
              0.7777777777777778,
              "#fb9f3a"
             ],
             [
              0.8888888888888888,
              "#fdca26"
             ],
             [
              1,
              "#f0f921"
             ]
            ],
            "type": "heatmapgl"
           }
          ],
          "histogram": [
           {
            "marker": {
             "colorbar": {
              "outlinewidth": 0,
              "ticks": ""
             }
            },
            "type": "histogram"
           }
          ],
          "histogram2d": [
           {
            "colorbar": {
             "outlinewidth": 0,
             "ticks": ""
            },
            "colorscale": [
             [
              0,
              "#0d0887"
             ],
             [
              0.1111111111111111,
              "#46039f"
             ],
             [
              0.2222222222222222,
              "#7201a8"
             ],
             [
              0.3333333333333333,
              "#9c179e"
             ],
             [
              0.4444444444444444,
              "#bd3786"
             ],
             [
              0.5555555555555556,
              "#d8576b"
             ],
             [
              0.6666666666666666,
              "#ed7953"
             ],
             [
              0.7777777777777778,
              "#fb9f3a"
             ],
             [
              0.8888888888888888,
              "#fdca26"
             ],
             [
              1,
              "#f0f921"
             ]
            ],
            "type": "histogram2d"
           }
          ],
          "histogram2dcontour": [
           {
            "colorbar": {
             "outlinewidth": 0,
             "ticks": ""
            },
            "colorscale": [
             [
              0,
              "#0d0887"
             ],
             [
              0.1111111111111111,
              "#46039f"
             ],
             [
              0.2222222222222222,
              "#7201a8"
             ],
             [
              0.3333333333333333,
              "#9c179e"
             ],
             [
              0.4444444444444444,
              "#bd3786"
             ],
             [
              0.5555555555555556,
              "#d8576b"
             ],
             [
              0.6666666666666666,
              "#ed7953"
             ],
             [
              0.7777777777777778,
              "#fb9f3a"
             ],
             [
              0.8888888888888888,
              "#fdca26"
             ],
             [
              1,
              "#f0f921"
             ]
            ],
            "type": "histogram2dcontour"
           }
          ],
          "mesh3d": [
           {
            "colorbar": {
             "outlinewidth": 0,
             "ticks": ""
            },
            "type": "mesh3d"
           }
          ],
          "parcoords": [
           {
            "line": {
             "colorbar": {
              "outlinewidth": 0,
              "ticks": ""
             }
            },
            "type": "parcoords"
           }
          ],
          "pie": [
           {
            "automargin": true,
            "type": "pie"
           }
          ],
          "scatter": [
           {
            "marker": {
             "colorbar": {
              "outlinewidth": 0,
              "ticks": ""
             }
            },
            "type": "scatter"
           }
          ],
          "scatter3d": [
           {
            "line": {
             "colorbar": {
              "outlinewidth": 0,
              "ticks": ""
             }
            },
            "marker": {
             "colorbar": {
              "outlinewidth": 0,
              "ticks": ""
             }
            },
            "type": "scatter3d"
           }
          ],
          "scattercarpet": [
           {
            "marker": {
             "colorbar": {
              "outlinewidth": 0,
              "ticks": ""
             }
            },
            "type": "scattercarpet"
           }
          ],
          "scattergeo": [
           {
            "marker": {
             "colorbar": {
              "outlinewidth": 0,
              "ticks": ""
             }
            },
            "type": "scattergeo"
           }
          ],
          "scattergl": [
           {
            "marker": {
             "colorbar": {
              "outlinewidth": 0,
              "ticks": ""
             }
            },
            "type": "scattergl"
           }
          ],
          "scattermapbox": [
           {
            "marker": {
             "colorbar": {
              "outlinewidth": 0,
              "ticks": ""
             }
            },
            "type": "scattermapbox"
           }
          ],
          "scatterpolar": [
           {
            "marker": {
             "colorbar": {
              "outlinewidth": 0,
              "ticks": ""
             }
            },
            "type": "scatterpolar"
           }
          ],
          "scatterpolargl": [
           {
            "marker": {
             "colorbar": {
              "outlinewidth": 0,
              "ticks": ""
             }
            },
            "type": "scatterpolargl"
           }
          ],
          "scatterternary": [
           {
            "marker": {
             "colorbar": {
              "outlinewidth": 0,
              "ticks": ""
             }
            },
            "type": "scatterternary"
           }
          ],
          "surface": [
           {
            "colorbar": {
             "outlinewidth": 0,
             "ticks": ""
            },
            "colorscale": [
             [
              0,
              "#0d0887"
             ],
             [
              0.1111111111111111,
              "#46039f"
             ],
             [
              0.2222222222222222,
              "#7201a8"
             ],
             [
              0.3333333333333333,
              "#9c179e"
             ],
             [
              0.4444444444444444,
              "#bd3786"
             ],
             [
              0.5555555555555556,
              "#d8576b"
             ],
             [
              0.6666666666666666,
              "#ed7953"
             ],
             [
              0.7777777777777778,
              "#fb9f3a"
             ],
             [
              0.8888888888888888,
              "#fdca26"
             ],
             [
              1,
              "#f0f921"
             ]
            ],
            "type": "surface"
           }
          ],
          "table": [
           {
            "cells": {
             "fill": {
              "color": "#EBF0F8"
             },
             "line": {
              "color": "white"
             }
            },
            "header": {
             "fill": {
              "color": "#C8D4E3"
             },
             "line": {
              "color": "white"
             }
            },
            "type": "table"
           }
          ]
         },
         "layout": {
          "annotationdefaults": {
           "arrowcolor": "#2a3f5f",
           "arrowhead": 0,
           "arrowwidth": 1
          },
          "coloraxis": {
           "colorbar": {
            "outlinewidth": 0,
            "ticks": ""
           }
          },
          "colorscale": {
           "diverging": [
            [
             0,
             "#8e0152"
            ],
            [
             0.1,
             "#c51b7d"
            ],
            [
             0.2,
             "#de77ae"
            ],
            [
             0.3,
             "#f1b6da"
            ],
            [
             0.4,
             "#fde0ef"
            ],
            [
             0.5,
             "#f7f7f7"
            ],
            [
             0.6,
             "#e6f5d0"
            ],
            [
             0.7,
             "#b8e186"
            ],
            [
             0.8,
             "#7fbc41"
            ],
            [
             0.9,
             "#4d9221"
            ],
            [
             1,
             "#276419"
            ]
           ],
           "sequential": [
            [
             0,
             "#0d0887"
            ],
            [
             0.1111111111111111,
             "#46039f"
            ],
            [
             0.2222222222222222,
             "#7201a8"
            ],
            [
             0.3333333333333333,
             "#9c179e"
            ],
            [
             0.4444444444444444,
             "#bd3786"
            ],
            [
             0.5555555555555556,
             "#d8576b"
            ],
            [
             0.6666666666666666,
             "#ed7953"
            ],
            [
             0.7777777777777778,
             "#fb9f3a"
            ],
            [
             0.8888888888888888,
             "#fdca26"
            ],
            [
             1,
             "#f0f921"
            ]
           ],
           "sequentialminus": [
            [
             0,
             "#0d0887"
            ],
            [
             0.1111111111111111,
             "#46039f"
            ],
            [
             0.2222222222222222,
             "#7201a8"
            ],
            [
             0.3333333333333333,
             "#9c179e"
            ],
            [
             0.4444444444444444,
             "#bd3786"
            ],
            [
             0.5555555555555556,
             "#d8576b"
            ],
            [
             0.6666666666666666,
             "#ed7953"
            ],
            [
             0.7777777777777778,
             "#fb9f3a"
            ],
            [
             0.8888888888888888,
             "#fdca26"
            ],
            [
             1,
             "#f0f921"
            ]
           ]
          },
          "colorway": [
           "#636efa",
           "#EF553B",
           "#00cc96",
           "#ab63fa",
           "#FFA15A",
           "#19d3f3",
           "#FF6692",
           "#B6E880",
           "#FF97FF",
           "#FECB52"
          ],
          "font": {
           "color": "#2a3f5f"
          },
          "geo": {
           "bgcolor": "white",
           "lakecolor": "white",
           "landcolor": "#E5ECF6",
           "showlakes": true,
           "showland": true,
           "subunitcolor": "white"
          },
          "hoverlabel": {
           "align": "left"
          },
          "hovermode": "closest",
          "mapbox": {
           "style": "light"
          },
          "paper_bgcolor": "white",
          "plot_bgcolor": "#E5ECF6",
          "polar": {
           "angularaxis": {
            "gridcolor": "white",
            "linecolor": "white",
            "ticks": ""
           },
           "bgcolor": "#E5ECF6",
           "radialaxis": {
            "gridcolor": "white",
            "linecolor": "white",
            "ticks": ""
           }
          },
          "scene": {
           "xaxis": {
            "backgroundcolor": "#E5ECF6",
            "gridcolor": "white",
            "gridwidth": 2,
            "linecolor": "white",
            "showbackground": true,
            "ticks": "",
            "zerolinecolor": "white"
           },
           "yaxis": {
            "backgroundcolor": "#E5ECF6",
            "gridcolor": "white",
            "gridwidth": 2,
            "linecolor": "white",
            "showbackground": true,
            "ticks": "",
            "zerolinecolor": "white"
           },
           "zaxis": {
            "backgroundcolor": "#E5ECF6",
            "gridcolor": "white",
            "gridwidth": 2,
            "linecolor": "white",
            "showbackground": true,
            "ticks": "",
            "zerolinecolor": "white"
           }
          },
          "shapedefaults": {
           "line": {
            "color": "#2a3f5f"
           }
          },
          "ternary": {
           "aaxis": {
            "gridcolor": "white",
            "linecolor": "white",
            "ticks": ""
           },
           "baxis": {
            "gridcolor": "white",
            "linecolor": "white",
            "ticks": ""
           },
           "bgcolor": "#E5ECF6",
           "caxis": {
            "gridcolor": "white",
            "linecolor": "white",
            "ticks": ""
           }
          },
          "title": {
           "x": 0.05
          },
          "xaxis": {
           "automargin": true,
           "gridcolor": "white",
           "linecolor": "white",
           "ticks": "",
           "title": {
            "standoff": 15
           },
           "zerolinecolor": "white",
           "zerolinewidth": 2
          },
          "yaxis": {
           "automargin": true,
           "gridcolor": "white",
           "linecolor": "white",
           "ticks": "",
           "title": {
            "standoff": 15
           },
           "zerolinecolor": "white",
           "zerolinewidth": 2
          }
         }
        },
        "title": {
         "text": "Air bases on map"
        }
       }
      },
      "text/html": [
       "<div>                            <div id=\"ad092ea9-343c-4d61-bc89-19ed1972e95f\" class=\"plotly-graph-div\" style=\"height:525px; width:100%;\"></div>            <script type=\"text/javascript\">                require([\"plotly\"], function(Plotly) {                    window.PLOTLYENV=window.PLOTLYENV || {};                                    if (document.getElementById(\"ad092ea9-343c-4d61-bc89-19ed1972e95f\")) {                    Plotly.newPlot(                        \"ad092ea9-343c-4d61-bc89-19ed1972e95f\",                        [{\"customdata\": [[\"Turkey\", \"Incirlik, Adana, Turkey\", 37.0, 35.419998], [\"Turkey\", \"Izmir Adnan Menderes International Airport, Izmir, Turkey\", 38.292389, 27.15695], [\"Turkey\", \"Adana Sakirpasa Airport, Adana, Turkey\", 36.982159, 35.28038]], \"geo\": \"geo\", \"hovertemplate\": \"<b>%{hovertext}</b><br><br>activity=%{marker.size}<extra></extra>\", \"hovertext\": [\"Incirlik, Adana, Turkey\", \"Izmir Adnan Menderes International Airport, Izmir, Turkey\", \"Adana Sakirpasa Airport, Adana, Turkey\"], \"lat\": [37.0, 38.292389, 36.982159], \"legendgroup\": \"Turkey\", \"lon\": [35.419998, 27.15695, 35.28038], \"marker\": {\"color\": \"#636efa\", \"size\": [21, 90, 41], \"sizemode\": \"area\", \"sizeref\": 0.2475}, \"name\": \"Turkey\", \"showlegend\": true, \"text\": [\"Incirlik, Adana, Turkey\", \"Izmir Adnan Menderes International Airport, Izmir, Turkey\", \"Adana Sakirpasa Airport, Adana, Turkey\"], \"type\": \"scattergeo\"}, {\"customdata\": [[\"United States\", \"Altus AFB, Altus, United States\", 34.666458, -99.26799799999999], [\"United States\", \"Vandenberg AFB, Lompoc, United States\", 34.729659999999996, -120.57599599999999], [\"United States\", \"Dyess AFB, Abilene, United States\", 32.42083, -99.854599], [\"United States\", \"Davis Monthan AFB, Tucson, United States\", 32.1665, -110.883003], [\"United States\", \"Langley AFB, Hampton, United States\", 37.082829, -76.360497], [\"United States\", \"Nellis AFB, Las Vegas, United States\", 36.236191, -115.033997], [\"United States\", \"Offutt AFB, Omaha, United States\", 41.118328000000005, -95.912498], [\"United States\", \"Roswell International Air Center Airport, Roswell, United States\", 33.301552, -104.529999], [\"United States\", \"Whiteman AFB, Knob Noster, United States\", 38.730289, -93.54789699999999], [\"United States\", \"Edwards AFB, Edwards, United States\", 34.90855, -117.883003], [\"United States\", \"Anchorage Elmendorf Air Force Base, Anchorage, United States\", 61.251339, -149.806], [\"United States\", \"Andrews Air Force Base, Camp Springs, United States\", 38.810829, -76.866997], [\"United States\", \"Volk Field, Camp Douglas, United States\", 43.937057, -90.25688199999999], [\"United States\", \"Riverside March Air Reserve Base, Riverside, United States\", 33.880711, -117.259003], [\"United States\", \"Fairfield Travis Air Force Base, Fairfield, United States\", 38.262661, -121.927002], [\"United States\", \"Los Angeles Whiteman Airport, Los Angeles, United States\", 34.259322999999995, -118.41342900000001]], \"geo\": \"geo\", \"hovertemplate\": \"<b>%{hovertext}</b><br><br>activity=%{marker.size}<extra></extra>\", \"hovertext\": [\"Altus AFB, Altus, United States\", \"Vandenberg AFB, Lompoc, United States\", \"Dyess AFB, Abilene, United States\", \"Davis Monthan AFB, Tucson, United States\", \"Langley AFB, Hampton, United States\", \"Nellis AFB, Las Vegas, United States\", \"Offutt AFB, Omaha, United States\", \"Roswell International Air Center Airport, Roswell, United States\", \"Whiteman AFB, Knob Noster, United States\", \"Edwards AFB, Edwards, United States\", \"Anchorage Elmendorf Air Force Base, Anchorage, United States\", \"Andrews Air Force Base, Camp Springs, United States\", \"Volk Field, Camp Douglas, United States\", \"Riverside March Air Reserve Base, Riverside, United States\", \"Fairfield Travis Air Force Base, Fairfield, United States\", \"Los Angeles Whiteman Airport, Los Angeles, United States\"], \"lat\": [34.666458, 34.729659999999996, 32.42083, 32.1665, 37.082829, 36.236191, 41.118328000000005, 33.301552, 38.730289, 34.90855, 61.251339, 38.810829, 43.937057, 33.880711, 38.262661, 34.259322999999995], \"legendgroup\": \"United States\", \"lon\": [-99.26799799999999, -120.57599599999999, -99.854599, -110.883003, -76.360497, -115.033997, -95.912498, -104.529999, -93.54789699999999, -117.883003, -149.806, -76.866997, -90.25688199999999, -117.259003, -121.927002, -118.41342900000001], \"marker\": {\"color\": \"#EF553B\", \"size\": [57, 18, 9, 73, 80, 55, 64, 75, 91, 52, 13, 58, 34, 85, 13, 53], \"sizemode\": \"area\", \"sizeref\": 0.2475}, \"name\": \"United States\", \"showlegend\": true, \"text\": [\"Altus AFB, Altus, United States\", \"Vandenberg AFB, Lompoc, United States\", \"Dyess AFB, Abilene, United States\", \"Davis Monthan AFB, Tucson, United States\", \"Langley AFB, Hampton, United States\", \"Nellis AFB, Las Vegas, United States\", \"Offutt AFB, Omaha, United States\", \"Roswell International Air Center Airport, Roswell, United States\", \"Whiteman AFB, Knob Noster, United States\", \"Edwards AFB, Edwards, United States\", \"Anchorage Elmendorf Air Force Base, Anchorage, United States\", \"Andrews Air Force Base, Camp Springs, United States\", \"Volk Field, Camp Douglas, United States\", \"Riverside March Air Reserve Base, Riverside, United States\", \"Fairfield Travis Air Force Base, Fairfield, United States\", \"Los Angeles Whiteman Airport, Los Angeles, United States\"], \"type\": \"scattergeo\"}, {\"customdata\": [[\"Guam\", \"Andersen AFB, Andersen, Guam\", 13.58389, 144.929993]], \"geo\": \"geo\", \"hovertemplate\": \"<b>%{hovertext}</b><br><br>activity=%{marker.size}<extra></extra>\", \"hovertext\": [\"Andersen AFB, Andersen, Guam\"], \"lat\": [13.58389], \"legendgroup\": \"Guam\", \"lon\": [144.929993], \"marker\": {\"color\": \"#00cc96\", \"size\": [45], \"sizemode\": \"area\", \"sizeref\": 0.2475}, \"name\": \"Guam\", \"showlegend\": true, \"text\": [\"Andersen AFB, Andersen, Guam\"], \"type\": \"scattergeo\"}, {\"customdata\": [[\"Afghanistan\", \"Logistics Support Area Anaconda, Bagram, Afghanistan\", 34.959614, 69.27050799999999], [\"Afghanistan\", \"Kabul International Airport, Kabul, Afghanistan\", 34.565841999999996, 69.21240999999999]], \"geo\": \"geo\", \"hovertemplate\": \"<b>%{hovertext}</b><br><br>activity=%{marker.size}<extra></extra>\", \"hovertext\": [\"Logistics Support Area Anaconda, Bagram, Afghanistan\", \"Kabul International Airport, Kabul, Afghanistan\"], \"lat\": [34.959614, 34.565841999999996], \"legendgroup\": \"Afghanistan\", \"lon\": [69.27050799999999, 69.21240999999999], \"marker\": {\"color\": \"#ab63fa\", \"size\": [14, 82], \"sizemode\": \"area\", \"sizeref\": 0.2475}, \"name\": \"Afghanistan\", \"showlegend\": true, \"text\": [\"Logistics Support Area Anaconda, Bagram, Afghanistan\", \"Kabul International Airport, Kabul, Afghanistan\"], \"type\": \"scattergeo\"}, {\"customdata\": [[\"Japan\", \"Kadena AB, Okinawa, Japan\", 26.35561, 127.767601]], \"geo\": \"geo\", \"hovertemplate\": \"<b>%{hovertext}</b><br><br>activity=%{marker.size}<extra></extra>\", \"hovertext\": [\"Kadena AB, Okinawa, Japan\"], \"lat\": [26.35561], \"legendgroup\": \"Japan\", \"lon\": [127.767601], \"marker\": {\"color\": \"#FFA15A\", \"size\": [10], \"sizemode\": \"area\", \"sizeref\": 0.2475}, \"name\": \"Japan\", \"showlegend\": true, \"text\": [\"Kadena AB, Okinawa, Japan\"], \"type\": \"scattergeo\"}, {\"customdata\": [[\"Iceland\", \"Keflavik International Airport, Reykjavik, Iceland\", 63.985001000000004, -22.605499]], \"geo\": \"geo\", \"hovertemplate\": \"<b>%{hovertext}</b><br><br>activity=%{marker.size}<extra></extra>\", \"hovertext\": [\"Keflavik International Airport, Reykjavik, Iceland\"], \"lat\": [63.985001000000004], \"legendgroup\": \"Iceland\", \"lon\": [-22.605499], \"marker\": {\"color\": \"#19d3f3\", \"size\": [89], \"sizemode\": \"area\", \"sizeref\": 0.2475}, \"name\": \"Iceland\", \"showlegend\": true, \"text\": [\"Keflavik International Airport, Reykjavik, Iceland\"], \"type\": \"scattergeo\"}, {\"customdata\": [[\"South Korea\", \"Gunsan Airport, Gunsan, South Korea\", 35.90361, 126.615829]], \"geo\": \"geo\", \"hovertemplate\": \"<b>%{hovertext}</b><br><br>activity=%{marker.size}<extra></extra>\", \"hovertext\": [\"Gunsan Airport, Gunsan, South Korea\"], \"lat\": [35.90361], \"legendgroup\": \"South Korea\", \"lon\": [126.615829], \"marker\": {\"color\": \"#FF6692\", \"size\": [45], \"sizemode\": \"area\", \"sizeref\": 0.2475}, \"name\": \"South Korea\", \"showlegend\": true, \"text\": [\"Gunsan Airport, Gunsan, South Korea\"], \"type\": \"scattergeo\"}, {\"customdata\": [[\"United Kingdom\", \"RAF Lakenheath, Lakenheath, United Kingdom\", 52.409302000000004, 0.561], [\"United Kingdom\", \"RAF Mildenhall, Mildenhall, United Kingdom\", 52.361931, 0.48640600000000006], [\"United Kingdom\", \"Fairford, Fairford, United Kingdom\", 51.682159000000006, -1.7900200000000002]], \"geo\": \"geo\", \"hovertemplate\": \"<b>%{hovertext}</b><br><br>activity=%{marker.size}<extra></extra>\", \"hovertext\": [\"RAF Lakenheath, Lakenheath, United Kingdom\", \"RAF Mildenhall, Mildenhall, United Kingdom\", \"Fairford, Fairford, United Kingdom\"], \"lat\": [52.409302000000004, 52.361931, 51.682159000000006], \"legendgroup\": \"United Kingdom\", \"lon\": [0.561, 0.48640600000000006, -1.7900200000000002], \"marker\": {\"color\": \"#B6E880\", \"size\": [24, 97, 92], \"sizemode\": \"area\", \"sizeref\": 0.2475}, \"name\": \"United Kingdom\", \"showlegend\": true, \"text\": [\"RAF Lakenheath, Lakenheath, United Kingdom\", \"RAF Mildenhall, Mildenhall, United Kingdom\", \"Fairford, Fairford, United Kingdom\"], \"type\": \"scattergeo\"}, {\"customdata\": [[\"Kyrgyzstan\", \"Bishkek Manas International Airport, Bishkek, Kyrgyzstan\", 43.061298, 74.477547]], \"geo\": \"geo\", \"hovertemplate\": \"<b>%{hovertext}</b><br><br>activity=%{marker.size}<extra></extra>\", \"hovertext\": [\"Bishkek Manas International Airport, Bishkek, Kyrgyzstan\"], \"lat\": [43.061298], \"legendgroup\": \"Kyrgyzstan\", \"lon\": [74.477547], \"marker\": {\"color\": \"#FF97FF\", \"size\": [80], \"sizemode\": \"area\", \"sizeref\": 0.2475}, \"name\": \"Kyrgyzstan\", \"showlegend\": true, \"text\": [\"Bishkek Manas International Airport, Bishkek, Kyrgyzstan\"], \"type\": \"scattergeo\"}, {\"customdata\": [[\"Germany\", \"Ramstein Air Base, Ramstein, Germany\", 49.436909, 7.600283]], \"geo\": \"geo\", \"hovertemplate\": \"<b>%{hovertext}</b><br><br>activity=%{marker.size}<extra></extra>\", \"hovertext\": [\"Ramstein Air Base, Ramstein, Germany\"], \"lat\": [49.436909], \"legendgroup\": \"Germany\", \"lon\": [7.600283], \"marker\": {\"color\": \"#FECB52\", \"size\": [99], \"sizemode\": \"area\", \"sizeref\": 0.2475}, \"name\": \"Germany\", \"showlegend\": true, \"text\": [\"Ramstein Air Base, Ramstein, Germany\"], \"type\": \"scattergeo\"}, {\"customdata\": [[\"Greenland\", \"Pituffik Airport, Pituffik, Greenland\", 76.533333, -68.699997]], \"geo\": \"geo\", \"hovertemplate\": \"<b>%{hovertext}</b><br><br>activity=%{marker.size}<extra></extra>\", \"hovertext\": [\"Pituffik Airport, Pituffik, Greenland\"], \"lat\": [76.533333], \"legendgroup\": \"Greenland\", \"lon\": [-68.699997], \"marker\": {\"color\": \"#636efa\", \"size\": [46], \"sizemode\": \"area\", \"sizeref\": 0.2475}, \"name\": \"Greenland\", \"showlegend\": true, \"text\": [\"Pituffik Airport, Pituffik, Greenland\"], \"type\": \"scattergeo\"}, {\"customdata\": [[\"Azerbaijan\", \"Ganja International Airport, Ganja, Azerbaijan\", 40.737778000000006, 46.317501]], \"geo\": \"geo\", \"hovertemplate\": \"<b>%{hovertext}</b><br><br>activity=%{marker.size}<extra></extra>\", \"hovertext\": [\"Ganja International Airport, Ganja, Azerbaijan\"], \"lat\": [40.737778000000006], \"legendgroup\": \"Azerbaijan\", \"lon\": [46.317501], \"marker\": {\"color\": \"#EF553B\", \"size\": [6], \"sizemode\": \"area\", \"sizeref\": 0.2475}, \"name\": \"Azerbaijan\", \"showlegend\": true, \"text\": [\"Ganja International Airport, Ganja, Azerbaijan\"], \"type\": \"scattergeo\"}, {\"customdata\": [[\"Italy\", \"Aviano, Aviano, Italy\", 46.031878999999996, 12.59647]], \"geo\": \"geo\", \"hovertemplate\": \"<b>%{hovertext}</b><br><br>activity=%{marker.size}<extra></extra>\", \"hovertext\": [\"Aviano, Aviano, Italy\"], \"lat\": [46.031878999999996], \"legendgroup\": \"Italy\", \"lon\": [12.59647], \"marker\": {\"color\": \"#00cc96\", \"size\": [59], \"sizemode\": \"area\", \"sizeref\": 0.2475}, \"name\": \"Italy\", \"showlegend\": true, \"text\": [\"Aviano, Aviano, Italy\"], \"type\": \"scattergeo\"}, {\"customdata\": [[\"Estonia\", \"Tartu Airport, Tartu, Estonia\", 58.307460999999996, 26.69042], [\"Estonia\", \"Tallinn Lennart Meri Airport , Tallinn, Estonia\", 59.413311, 24.83284], [\"Estonia\", \"Parnu Airport, Parnu, Estonia\", 58.418999, 24.472799], [\"Estonia\", \"Kardla Airport, Kardla, Estonia\", 58.990749, 22.83073]], \"geo\": \"geo\", \"hovertemplate\": \"<b>%{hovertext}</b><br><br>activity=%{marker.size}<extra></extra>\", \"hovertext\": [\"Tartu Airport, Tartu, Estonia\", \"Tallinn Lennart Meri Airport , Tallinn, Estonia\", \"Parnu Airport, Parnu, Estonia\", \"Kardla Airport, Kardla, Estonia\"], \"lat\": [58.307460999999996, 59.413311, 58.418999, 58.990749], \"legendgroup\": \"Estonia\", \"lon\": [26.69042, 24.83284, 24.472799, 22.83073], \"marker\": {\"color\": \"#ab63fa\", \"size\": [19, 8, 36, 50], \"sizemode\": \"area\", \"sizeref\": 0.2475}, \"name\": \"Estonia\", \"showlegend\": true, \"text\": [\"Tartu Airport, Tartu, Estonia\", \"Tallinn Lennart Meri Airport , Tallinn, Estonia\", \"Parnu Airport, Parnu, Estonia\", \"Kardla Airport, Kardla, Estonia\"], \"type\": \"scattergeo\"}, {\"customdata\": [[\"Latvia\", \"Riga International Airport, Riga, Latvia\", 56.923611, 23.971109], [\"Latvia\", \"Ventspils International Airport, Ventspils, Latvia\", 57.349998, 21.540001], [\"Latvia\", \"Liepaja Airport, Liepaja, Latvia\", 56.517502, 21.096939000000003]], \"geo\": \"geo\", \"hovertemplate\": \"<b>%{hovertext}</b><br><br>activity=%{marker.size}<extra></extra>\", \"hovertext\": [\"Riga International Airport, Riga, Latvia\", \"Ventspils International Airport, Ventspils, Latvia\", \"Liepaja Airport, Liepaja, Latvia\"], \"lat\": [56.923611, 57.349998, 56.517502], \"legendgroup\": \"Latvia\", \"lon\": [23.971109, 21.540001, 21.096939000000003], \"marker\": {\"color\": \"#FFA15A\", \"size\": [37, 93, 11], \"sizemode\": \"area\", \"sizeref\": 0.2475}, \"name\": \"Latvia\", \"showlegend\": true, \"text\": [\"Riga International Airport, Riga, Latvia\", \"Ventspils International Airport, Ventspils, Latvia\", \"Liepaja Airport, Liepaja, Latvia\"], \"type\": \"scattergeo\"}, {\"customdata\": [[\"Lithuania\", \"Vilnius International Airport, Vilnius, Lithuania\", 54.637069999999994, 25.2878], [\"Lithuania\", \"Kaunas Airport, Kaunas, Lithuania\", 54.963908999999994, 24.084770000000002], [\"Lithuania\", \"Siauliai International Airport, Siauliai, Lithuania\", 55.893879000000005, 23.39497], [\"Lithuania\", \"Palanga International Airport, Palanga, Lithuania\", 55.973220999999995, 21.093849]], \"geo\": \"geo\", \"hovertemplate\": \"<b>%{hovertext}</b><br><br>activity=%{marker.size}<extra></extra>\", \"hovertext\": [\"Vilnius International Airport, Vilnius, Lithuania\", \"Kaunas Airport, Kaunas, Lithuania\", \"Siauliai International Airport, Siauliai, Lithuania\", \"Palanga International Airport, Palanga, Lithuania\"], \"lat\": [54.637069999999994, 54.963908999999994, 55.893879000000005, 55.973220999999995], \"legendgroup\": \"Lithuania\", \"lon\": [25.2878, 24.084770000000002, 23.39497, 21.093849], \"marker\": {\"color\": \"#19d3f3\", \"size\": [73, 37, 3, 44], \"sizemode\": \"area\", \"sizeref\": 0.2475}, \"name\": \"Lithuania\", \"showlegend\": true, \"text\": [\"Vilnius International Airport, Vilnius, Lithuania\", \"Kaunas Airport, Kaunas, Lithuania\", \"Siauliai International Airport, Siauliai, Lithuania\", \"Palanga International Airport, Palanga, Lithuania\"], \"type\": \"scattergeo\"}, {\"customdata\": [[\"Poland\", \"Gdansk Lech Walesa Airport, Gdansk, Poland\", 54.377559999999995, 18.466221], [\"Poland\", \"Szczecin Goleniow Airport, Szczecin, Poland\", 53.584728000000005, 14.9022], [\"Poland\", \"Bydgoszcz Ignacy Jan Paderewski Airport, Bydgoszcz, Poland\", 53.096802000000004, 17.977659], [\"Poland\", \"Poznan Lawica Airport, Poznan, Poland\", 52.421028, 16.826321], [\"Poland\", \"Warsaw Modlin Airport, Warsaw, Poland\", 52.451111, 20.651667], [\"Poland\", \"Warsaw Chopin Airport, Warsaw, Poland\", 52.165749, 20.967119], [\"Poland\", \"Lodz Wladyslaw Reymont Airport, Lodz, Poland\", 51.721882, 19.39813], [\"Poland\", \"Lublin Airport, Lublin, Poland\", 51.240002000000004, 22.713333], [\"Poland\", \"Wroclaw Copernicus Airport, Wroclaw, Poland\", 51.10268, 16.88583], [\"Poland\", \"Katowice International Airport, Katowice, Poland\", 50.474251, 19.080009], [\"Poland\", \"Krakow John Paul II International Airport, Krakow, Poland\", 50.077728, 19.78483], [\"Poland\", \"Rzeszow Jasionka Airport, Rzeszow, Poland\", 50.109951, 22.018998999999997]], \"geo\": \"geo\", \"hovertemplate\": \"<b>%{hovertext}</b><br><br>activity=%{marker.size}<extra></extra>\", \"hovertext\": [\"Gdansk Lech Walesa Airport, Gdansk, Poland\", \"Szczecin Goleniow Airport, Szczecin, Poland\", \"Bydgoszcz Ignacy Jan Paderewski Airport, Bydgoszcz, Poland\", \"Poznan Lawica Airport, Poznan, Poland\", \"Warsaw Modlin Airport, Warsaw, Poland\", \"Warsaw Chopin Airport, Warsaw, Poland\", \"Lodz Wladyslaw Reymont Airport, Lodz, Poland\", \"Lublin Airport, Lublin, Poland\", \"Wroclaw Copernicus Airport, Wroclaw, Poland\", \"Katowice International Airport, Katowice, Poland\", \"Krakow John Paul II International Airport, Krakow, Poland\", \"Rzeszow Jasionka Airport, Rzeszow, Poland\"], \"lat\": [54.377559999999995, 53.584728000000005, 53.096802000000004, 52.421028, 52.451111, 52.165749, 51.721882, 51.240002000000004, 51.10268, 50.474251, 50.077728, 50.109951], \"legendgroup\": \"Poland\", \"lon\": [18.466221, 14.9022, 17.977659, 16.826321, 20.651667, 20.967119, 19.39813, 22.713333, 16.88583, 19.080009, 19.78483, 22.018998999999997], \"marker\": {\"color\": \"#FF6692\", \"size\": [71, 48, 35, 7, 54, 16, 36, 9, 94, 33, 25, 36], \"sizemode\": \"area\", \"sizeref\": 0.2475}, \"name\": \"Poland\", \"showlegend\": true, \"text\": [\"Gdansk Lech Walesa Airport, Gdansk, Poland\", \"Szczecin Goleniow Airport, Szczecin, Poland\", \"Bydgoszcz Ignacy Jan Paderewski Airport, Bydgoszcz, Poland\", \"Poznan Lawica Airport, Poznan, Poland\", \"Warsaw Modlin Airport, Warsaw, Poland\", \"Warsaw Chopin Airport, Warsaw, Poland\", \"Lodz Wladyslaw Reymont Airport, Lodz, Poland\", \"Lublin Airport, Lublin, Poland\", \"Wroclaw Copernicus Airport, Wroclaw, Poland\", \"Katowice International Airport, Katowice, Poland\", \"Krakow John Paul II International Airport, Krakow, Poland\", \"Rzeszow Jasionka Airport, Rzeszow, Poland\"], \"type\": \"scattergeo\"}, {\"customdata\": [[\"Ukraine\", \"Kyiv Zhuliany Airport, Kyiv, Ukraine\", 50.401691, 30.449690000000004], [\"Ukraine\", \"Rivne International Airport, Rivne, Ukraine\", 50.599998, 26.15], [\"Ukraine\", \"Kyiv Hostomel Airport, Kyiv, Ukraine\", 50.603611, 30.191944], [\"Ukraine\", \"Vinnytsia Havryshivka International Airport, Vinnytsia, Ukraine\", 49.243427000000004, 28.6112], [\"Ukraine\", \"Kyiv Boryspil International Airport, Kyiv, Ukraine\", 50.345001, 30.89472]], \"geo\": \"geo\", \"hovertemplate\": \"<b>%{hovertext}</b><br><br>activity=%{marker.size}<extra></extra>\", \"hovertext\": [\"Kyiv Zhuliany Airport, Kyiv, Ukraine\", \"Rivne International Airport, Rivne, Ukraine\", \"Kyiv Hostomel Airport, Kyiv, Ukraine\", \"Vinnytsia Havryshivka International Airport, Vinnytsia, Ukraine\", \"Kyiv Boryspil International Airport, Kyiv, Ukraine\"], \"lat\": [50.401691, 50.599998, 50.603611, 49.243427000000004, 50.345001], \"legendgroup\": \"Ukraine\", \"lon\": [30.449690000000004, 26.15, 30.191944, 28.6112, 30.89472], \"marker\": {\"color\": \"#B6E880\", \"size\": [67, 28, 28, 4, 99], \"sizemode\": \"area\", \"sizeref\": 0.2475}, \"name\": \"Ukraine\", \"showlegend\": true, \"text\": [\"Kyiv Zhuliany Airport, Kyiv, Ukraine\", \"Rivne International Airport, Rivne, Ukraine\", \"Kyiv Hostomel Airport, Kyiv, Ukraine\", \"Vinnytsia Havryshivka International Airport, Vinnytsia, Ukraine\", \"Kyiv Boryspil International Airport, Kyiv, Ukraine\"], \"type\": \"scattergeo\"}, {\"customdata\": [[\"Georgia\", \"Tbilisi International Airport, Tbilisi, Georgia\", 41.669159, 44.95472]], \"geo\": \"geo\", \"hovertemplate\": \"<b>%{hovertext}</b><br><br>activity=%{marker.size}<extra></extra>\", \"hovertext\": [\"Tbilisi International Airport, Tbilisi, Georgia\"], \"lat\": [41.669159], \"legendgroup\": \"Georgia\", \"lon\": [44.95472], \"marker\": {\"color\": \"#FF97FF\", \"size\": [7], \"sizemode\": \"area\", \"sizeref\": 0.2475}, \"name\": \"Georgia\", \"showlegend\": true, \"text\": [\"Tbilisi International Airport, Tbilisi, Georgia\"], \"type\": \"scattergeo\"}, {\"customdata\": [[\"Czechia\", \"Pardubice Airport, Pardubice, Czechia\", 50.013409, 15.73864]], \"geo\": \"geo\", \"hovertemplate\": \"<b>%{hovertext}</b><br><br>activity=%{marker.size}<extra></extra>\", \"hovertext\": [\"Pardubice Airport, Pardubice, Czechia\"], \"lat\": [50.013409], \"legendgroup\": \"Czechia\", \"lon\": [15.73864], \"marker\": {\"color\": \"#FECB52\", \"size\": [65], \"sizemode\": \"area\", \"sizeref\": 0.2475}, \"name\": \"Czechia\", \"showlegend\": true, \"text\": [\"Pardubice Airport, Pardubice, Czechia\"], \"type\": \"scattergeo\"}],                        {\"geo\": {\"center\": {}, \"domain\": {\"x\": [0.0, 1.0], \"y\": [0.0, 1.0]}}, \"legend\": {\"itemsizing\": \"constant\", \"title\": {\"text\": \"country\"}, \"tracegroupgap\": 0}, \"margin\": {\"t\": 60}, \"template\": {\"data\": {\"bar\": [{\"error_x\": {\"color\": \"#2a3f5f\"}, \"error_y\": {\"color\": \"#2a3f5f\"}, \"marker\": {\"line\": {\"color\": \"#E5ECF6\", \"width\": 0.5}}, \"type\": \"bar\"}], \"barpolar\": [{\"marker\": {\"line\": {\"color\": \"#E5ECF6\", \"width\": 0.5}}, \"type\": \"barpolar\"}], \"carpet\": [{\"aaxis\": {\"endlinecolor\": \"#2a3f5f\", \"gridcolor\": \"white\", \"linecolor\": \"white\", \"minorgridcolor\": \"white\", \"startlinecolor\": \"#2a3f5f\"}, \"baxis\": {\"endlinecolor\": \"#2a3f5f\", \"gridcolor\": \"white\", \"linecolor\": \"white\", \"minorgridcolor\": \"white\", \"startlinecolor\": \"#2a3f5f\"}, \"type\": \"carpet\"}], \"choropleth\": [{\"colorbar\": {\"outlinewidth\": 0, \"ticks\": \"\"}, \"type\": \"choropleth\"}], \"contour\": [{\"colorbar\": {\"outlinewidth\": 0, \"ticks\": \"\"}, \"colorscale\": [[0.0, \"#0d0887\"], [0.1111111111111111, \"#46039f\"], [0.2222222222222222, \"#7201a8\"], [0.3333333333333333, \"#9c179e\"], [0.4444444444444444, \"#bd3786\"], [0.5555555555555556, \"#d8576b\"], [0.6666666666666666, \"#ed7953\"], [0.7777777777777778, \"#fb9f3a\"], [0.8888888888888888, \"#fdca26\"], [1.0, \"#f0f921\"]], \"type\": \"contour\"}], \"contourcarpet\": [{\"colorbar\": {\"outlinewidth\": 0, \"ticks\": \"\"}, \"type\": \"contourcarpet\"}], \"heatmap\": [{\"colorbar\": {\"outlinewidth\": 0, \"ticks\": \"\"}, \"colorscale\": [[0.0, \"#0d0887\"], [0.1111111111111111, \"#46039f\"], [0.2222222222222222, \"#7201a8\"], [0.3333333333333333, \"#9c179e\"], [0.4444444444444444, \"#bd3786\"], [0.5555555555555556, \"#d8576b\"], [0.6666666666666666, \"#ed7953\"], [0.7777777777777778, \"#fb9f3a\"], [0.8888888888888888, \"#fdca26\"], [1.0, \"#f0f921\"]], \"type\": \"heatmap\"}], \"heatmapgl\": [{\"colorbar\": {\"outlinewidth\": 0, \"ticks\": \"\"}, \"colorscale\": [[0.0, \"#0d0887\"], [0.1111111111111111, \"#46039f\"], [0.2222222222222222, \"#7201a8\"], [0.3333333333333333, \"#9c179e\"], [0.4444444444444444, \"#bd3786\"], [0.5555555555555556, \"#d8576b\"], [0.6666666666666666, \"#ed7953\"], [0.7777777777777778, \"#fb9f3a\"], [0.8888888888888888, \"#fdca26\"], [1.0, \"#f0f921\"]], \"type\": \"heatmapgl\"}], \"histogram\": [{\"marker\": {\"colorbar\": {\"outlinewidth\": 0, \"ticks\": \"\"}}, \"type\": \"histogram\"}], \"histogram2d\": [{\"colorbar\": {\"outlinewidth\": 0, \"ticks\": \"\"}, \"colorscale\": [[0.0, \"#0d0887\"], [0.1111111111111111, \"#46039f\"], [0.2222222222222222, \"#7201a8\"], [0.3333333333333333, \"#9c179e\"], [0.4444444444444444, \"#bd3786\"], [0.5555555555555556, \"#d8576b\"], [0.6666666666666666, \"#ed7953\"], [0.7777777777777778, \"#fb9f3a\"], [0.8888888888888888, \"#fdca26\"], [1.0, \"#f0f921\"]], \"type\": \"histogram2d\"}], \"histogram2dcontour\": [{\"colorbar\": {\"outlinewidth\": 0, \"ticks\": \"\"}, \"colorscale\": [[0.0, \"#0d0887\"], [0.1111111111111111, \"#46039f\"], [0.2222222222222222, \"#7201a8\"], [0.3333333333333333, \"#9c179e\"], [0.4444444444444444, \"#bd3786\"], [0.5555555555555556, \"#d8576b\"], [0.6666666666666666, \"#ed7953\"], [0.7777777777777778, \"#fb9f3a\"], [0.8888888888888888, \"#fdca26\"], [1.0, \"#f0f921\"]], \"type\": \"histogram2dcontour\"}], \"mesh3d\": [{\"colorbar\": {\"outlinewidth\": 0, \"ticks\": \"\"}, \"type\": \"mesh3d\"}], \"parcoords\": [{\"line\": {\"colorbar\": {\"outlinewidth\": 0, \"ticks\": \"\"}}, \"type\": \"parcoords\"}], \"pie\": [{\"automargin\": true, \"type\": \"pie\"}], \"scatter\": [{\"marker\": {\"colorbar\": {\"outlinewidth\": 0, \"ticks\": \"\"}}, \"type\": \"scatter\"}], \"scatter3d\": [{\"line\": {\"colorbar\": {\"outlinewidth\": 0, \"ticks\": \"\"}}, \"marker\": {\"colorbar\": {\"outlinewidth\": 0, \"ticks\": \"\"}}, \"type\": \"scatter3d\"}], \"scattercarpet\": [{\"marker\": {\"colorbar\": {\"outlinewidth\": 0, \"ticks\": \"\"}}, \"type\": \"scattercarpet\"}], \"scattergeo\": [{\"marker\": {\"colorbar\": {\"outlinewidth\": 0, \"ticks\": \"\"}}, \"type\": \"scattergeo\"}], \"scattergl\": [{\"marker\": {\"colorbar\": {\"outlinewidth\": 0, \"ticks\": \"\"}}, \"type\": \"scattergl\"}], \"scattermapbox\": [{\"marker\": {\"colorbar\": {\"outlinewidth\": 0, \"ticks\": \"\"}}, \"type\": \"scattermapbox\"}], \"scatterpolar\": [{\"marker\": {\"colorbar\": {\"outlinewidth\": 0, \"ticks\": \"\"}}, \"type\": \"scatterpolar\"}], \"scatterpolargl\": [{\"marker\": {\"colorbar\": {\"outlinewidth\": 0, \"ticks\": \"\"}}, \"type\": \"scatterpolargl\"}], \"scatterternary\": [{\"marker\": {\"colorbar\": {\"outlinewidth\": 0, \"ticks\": \"\"}}, \"type\": \"scatterternary\"}], \"surface\": [{\"colorbar\": {\"outlinewidth\": 0, \"ticks\": \"\"}, \"colorscale\": [[0.0, \"#0d0887\"], [0.1111111111111111, \"#46039f\"], [0.2222222222222222, \"#7201a8\"], [0.3333333333333333, \"#9c179e\"], [0.4444444444444444, \"#bd3786\"], [0.5555555555555556, \"#d8576b\"], [0.6666666666666666, \"#ed7953\"], [0.7777777777777778, \"#fb9f3a\"], [0.8888888888888888, \"#fdca26\"], [1.0, \"#f0f921\"]], \"type\": \"surface\"}], \"table\": [{\"cells\": {\"fill\": {\"color\": \"#EBF0F8\"}, \"line\": {\"color\": \"white\"}}, \"header\": {\"fill\": {\"color\": \"#C8D4E3\"}, \"line\": {\"color\": \"white\"}}, \"type\": \"table\"}]}, \"layout\": {\"annotationdefaults\": {\"arrowcolor\": \"#2a3f5f\", \"arrowhead\": 0, \"arrowwidth\": 1}, \"coloraxis\": {\"colorbar\": {\"outlinewidth\": 0, \"ticks\": \"\"}}, \"colorscale\": {\"diverging\": [[0, \"#8e0152\"], [0.1, \"#c51b7d\"], [0.2, \"#de77ae\"], [0.3, \"#f1b6da\"], [0.4, \"#fde0ef\"], [0.5, \"#f7f7f7\"], [0.6, \"#e6f5d0\"], [0.7, \"#b8e186\"], [0.8, \"#7fbc41\"], [0.9, \"#4d9221\"], [1, \"#276419\"]], \"sequential\": [[0.0, \"#0d0887\"], [0.1111111111111111, \"#46039f\"], [0.2222222222222222, \"#7201a8\"], [0.3333333333333333, \"#9c179e\"], [0.4444444444444444, \"#bd3786\"], [0.5555555555555556, \"#d8576b\"], [0.6666666666666666, \"#ed7953\"], [0.7777777777777778, \"#fb9f3a\"], [0.8888888888888888, \"#fdca26\"], [1.0, \"#f0f921\"]], \"sequentialminus\": [[0.0, \"#0d0887\"], [0.1111111111111111, \"#46039f\"], [0.2222222222222222, \"#7201a8\"], [0.3333333333333333, \"#9c179e\"], [0.4444444444444444, \"#bd3786\"], [0.5555555555555556, \"#d8576b\"], [0.6666666666666666, \"#ed7953\"], [0.7777777777777778, \"#fb9f3a\"], [0.8888888888888888, \"#fdca26\"], [1.0, \"#f0f921\"]]}, \"colorway\": [\"#636efa\", \"#EF553B\", \"#00cc96\", \"#ab63fa\", \"#FFA15A\", \"#19d3f3\", \"#FF6692\", \"#B6E880\", \"#FF97FF\", \"#FECB52\"], \"font\": {\"color\": \"#2a3f5f\"}, \"geo\": {\"bgcolor\": \"white\", \"lakecolor\": \"white\", \"landcolor\": \"#E5ECF6\", \"showlakes\": true, \"showland\": true, \"subunitcolor\": \"white\"}, \"hoverlabel\": {\"align\": \"left\"}, \"hovermode\": \"closest\", \"mapbox\": {\"style\": \"light\"}, \"paper_bgcolor\": \"white\", \"plot_bgcolor\": \"#E5ECF6\", \"polar\": {\"angularaxis\": {\"gridcolor\": \"white\", \"linecolor\": \"white\", \"ticks\": \"\"}, \"bgcolor\": \"#E5ECF6\", \"radialaxis\": {\"gridcolor\": \"white\", \"linecolor\": \"white\", \"ticks\": \"\"}}, \"scene\": {\"xaxis\": {\"backgroundcolor\": \"#E5ECF6\", \"gridcolor\": \"white\", \"gridwidth\": 2, \"linecolor\": \"white\", \"showbackground\": true, \"ticks\": \"\", \"zerolinecolor\": \"white\"}, \"yaxis\": {\"backgroundcolor\": \"#E5ECF6\", \"gridcolor\": \"white\", \"gridwidth\": 2, \"linecolor\": \"white\", \"showbackground\": true, \"ticks\": \"\", \"zerolinecolor\": \"white\"}, \"zaxis\": {\"backgroundcolor\": \"#E5ECF6\", \"gridcolor\": \"white\", \"gridwidth\": 2, \"linecolor\": \"white\", \"showbackground\": true, \"ticks\": \"\", \"zerolinecolor\": \"white\"}}, \"shapedefaults\": {\"line\": {\"color\": \"#2a3f5f\"}}, \"ternary\": {\"aaxis\": {\"gridcolor\": \"white\", \"linecolor\": \"white\", \"ticks\": \"\"}, \"baxis\": {\"gridcolor\": \"white\", \"linecolor\": \"white\", \"ticks\": \"\"}, \"bgcolor\": \"#E5ECF6\", \"caxis\": {\"gridcolor\": \"white\", \"linecolor\": \"white\", \"ticks\": \"\"}}, \"title\": {\"x\": 0.05}, \"xaxis\": {\"automargin\": true, \"gridcolor\": \"white\", \"linecolor\": \"white\", \"ticks\": \"\", \"title\": {\"standoff\": 15}, \"zerolinecolor\": \"white\", \"zerolinewidth\": 2}, \"yaxis\": {\"automargin\": true, \"gridcolor\": \"white\", \"linecolor\": \"white\", \"ticks\": \"\", \"title\": {\"standoff\": 15}, \"zerolinecolor\": \"white\", \"zerolinewidth\": 2}}}, \"title\": {\"text\": \"Air bases on map\"}},                        {\"responsive\": true}                    ).then(function(){\n",
       "                            \n",
       "var gd = document.getElementById('ad092ea9-343c-4d61-bc89-19ed1972e95f');\n",
       "var x = new MutationObserver(function (mutations, observer) {{\n",
       "        var display = window.getComputedStyle(gd).display;\n",
       "        if (!display || display === 'none') {{\n",
       "            console.log([gd, 'removed!']);\n",
       "            Plotly.purge(gd);\n",
       "            observer.disconnect();\n",
       "        }}\n",
       "}});\n",
       "\n",
       "// Listen for the removal of the full notebook cells\n",
       "var notebookContainer = gd.closest('#notebook-container');\n",
       "if (notebookContainer) {{\n",
       "    x.observe(notebookContainer, {childList: true});\n",
       "}}\n",
       "\n",
       "// Listen for the clearing of the current output cell\n",
       "var outputEl = gd.closest('.output');\n",
       "if (outputEl) {{\n",
       "    x.observe(outputEl, {childList: true});\n",
       "}}\n",
       "\n",
       "                        })                };                });            </script>        </div>"
      ]
     },
     "metadata": {},
     "output_type": "display_data"
    }
   ],
   "source": [
    "df = pd.read_csv('afbDetails.csv')\n",
    "df['activity'] = [random.randint(1,100)  for k in df.index]\n",
    "df['text'] = df['name'] + ', ' + df['city'] + ', ' + df['country'] ######Надо сравнить со списком\n",
    "\n",
    "fig = px.scatter_geo(df,\n",
    "        lon = df['longitude'],\n",
    "        lat = df['latitude'],\n",
    "        text = df['text'],\n",
    "        color = df['country'],\n",
    "        size = df['activity'],\n",
    "        hover_name = df['text'],\n",
    "        hover_data = {'country':False,\n",
    "                     'text':False,\n",
    "                     'latitude':False,\n",
    "                     'longitude':False}\n",
    "        \n",
    "        \n",
    "        \n",
    "        )\n",
    "\n",
    "fig.update_layout(\n",
    "        title = 'Air bases on map'\n",
    "    )\n",
    "fig.show()\n"
   ]
  },
  {
   "cell_type": "code",
   "execution_count": null,
   "metadata": {},
   "outputs": [],
   "source": [
    "data1 = pd.read_csv('/Users/mac/Desktop/concat.csv')\n",
    "data1 = data1.groupby(['today','afb']).agg({'text':'size'}).reset_index(level=['today','afb'])\n",
    "data1[\"today\"] = pd.to_datetime(data1[\"today\"], format=\"%Y-%m-%d\")\n",
    "data1 \n"
   ]
  },
  {
   "cell_type": "code",
   "execution_count": 48,
   "metadata": {},
   "outputs": [
    {
     "data": {
      "application/vnd.plotly.v1+json": {
       "config": {
        "plotlyServerURL": "https://plot.ly"
       },
       "data": [
        {
         "hovertemplate": "<i>Price</i>: $%{y:.2f}<br><b>X</b>: %{x}<br><b>%{text}</b>",
         "showlegend": false,
         "text": [
          "Custom text 1",
          "Custom text 2",
          "Custom text 3",
          "Custom text 4",
          "Custom text 5"
         ],
         "type": "scatter",
         "x": [
          1,
          2,
          3,
          4,
          5
         ],
         "y": [
          2.02825,
          1.63728,
          6.83839,
          4.8485,
          4.73463
         ]
        },
        {
         "hovertemplate": "Price: %{y:$.2f}<extra></extra>",
         "showlegend": false,
         "type": "scatter",
         "x": [
          1,
          2,
          3,
          4,
          5
         ],
         "y": [
          3.02825,
          2.63728,
          4.83839,
          3.8485,
          1.73463
         ]
        }
       ],
       "layout": {
        "hoverlabel": {
         "align": "right"
        },
        "template": {
         "data": {
          "bar": [
           {
            "error_x": {
             "color": "#2a3f5f"
            },
            "error_y": {
             "color": "#2a3f5f"
            },
            "marker": {
             "line": {
              "color": "#E5ECF6",
              "width": 0.5
             }
            },
            "type": "bar"
           }
          ],
          "barpolar": [
           {
            "marker": {
             "line": {
              "color": "#E5ECF6",
              "width": 0.5
             }
            },
            "type": "barpolar"
           }
          ],
          "carpet": [
           {
            "aaxis": {
             "endlinecolor": "#2a3f5f",
             "gridcolor": "white",
             "linecolor": "white",
             "minorgridcolor": "white",
             "startlinecolor": "#2a3f5f"
            },
            "baxis": {
             "endlinecolor": "#2a3f5f",
             "gridcolor": "white",
             "linecolor": "white",
             "minorgridcolor": "white",
             "startlinecolor": "#2a3f5f"
            },
            "type": "carpet"
           }
          ],
          "choropleth": [
           {
            "colorbar": {
             "outlinewidth": 0,
             "ticks": ""
            },
            "type": "choropleth"
           }
          ],
          "contour": [
           {
            "colorbar": {
             "outlinewidth": 0,
             "ticks": ""
            },
            "colorscale": [
             [
              0,
              "#0d0887"
             ],
             [
              0.1111111111111111,
              "#46039f"
             ],
             [
              0.2222222222222222,
              "#7201a8"
             ],
             [
              0.3333333333333333,
              "#9c179e"
             ],
             [
              0.4444444444444444,
              "#bd3786"
             ],
             [
              0.5555555555555556,
              "#d8576b"
             ],
             [
              0.6666666666666666,
              "#ed7953"
             ],
             [
              0.7777777777777778,
              "#fb9f3a"
             ],
             [
              0.8888888888888888,
              "#fdca26"
             ],
             [
              1,
              "#f0f921"
             ]
            ],
            "type": "contour"
           }
          ],
          "contourcarpet": [
           {
            "colorbar": {
             "outlinewidth": 0,
             "ticks": ""
            },
            "type": "contourcarpet"
           }
          ],
          "heatmap": [
           {
            "colorbar": {
             "outlinewidth": 0,
             "ticks": ""
            },
            "colorscale": [
             [
              0,
              "#0d0887"
             ],
             [
              0.1111111111111111,
              "#46039f"
             ],
             [
              0.2222222222222222,
              "#7201a8"
             ],
             [
              0.3333333333333333,
              "#9c179e"
             ],
             [
              0.4444444444444444,
              "#bd3786"
             ],
             [
              0.5555555555555556,
              "#d8576b"
             ],
             [
              0.6666666666666666,
              "#ed7953"
             ],
             [
              0.7777777777777778,
              "#fb9f3a"
             ],
             [
              0.8888888888888888,
              "#fdca26"
             ],
             [
              1,
              "#f0f921"
             ]
            ],
            "type": "heatmap"
           }
          ],
          "heatmapgl": [
           {
            "colorbar": {
             "outlinewidth": 0,
             "ticks": ""
            },
            "colorscale": [
             [
              0,
              "#0d0887"
             ],
             [
              0.1111111111111111,
              "#46039f"
             ],
             [
              0.2222222222222222,
              "#7201a8"
             ],
             [
              0.3333333333333333,
              "#9c179e"
             ],
             [
              0.4444444444444444,
              "#bd3786"
             ],
             [
              0.5555555555555556,
              "#d8576b"
             ],
             [
              0.6666666666666666,
              "#ed7953"
             ],
             [
              0.7777777777777778,
              "#fb9f3a"
             ],
             [
              0.8888888888888888,
              "#fdca26"
             ],
             [
              1,
              "#f0f921"
             ]
            ],
            "type": "heatmapgl"
           }
          ],
          "histogram": [
           {
            "marker": {
             "colorbar": {
              "outlinewidth": 0,
              "ticks": ""
             }
            },
            "type": "histogram"
           }
          ],
          "histogram2d": [
           {
            "colorbar": {
             "outlinewidth": 0,
             "ticks": ""
            },
            "colorscale": [
             [
              0,
              "#0d0887"
             ],
             [
              0.1111111111111111,
              "#46039f"
             ],
             [
              0.2222222222222222,
              "#7201a8"
             ],
             [
              0.3333333333333333,
              "#9c179e"
             ],
             [
              0.4444444444444444,
              "#bd3786"
             ],
             [
              0.5555555555555556,
              "#d8576b"
             ],
             [
              0.6666666666666666,
              "#ed7953"
             ],
             [
              0.7777777777777778,
              "#fb9f3a"
             ],
             [
              0.8888888888888888,
              "#fdca26"
             ],
             [
              1,
              "#f0f921"
             ]
            ],
            "type": "histogram2d"
           }
          ],
          "histogram2dcontour": [
           {
            "colorbar": {
             "outlinewidth": 0,
             "ticks": ""
            },
            "colorscale": [
             [
              0,
              "#0d0887"
             ],
             [
              0.1111111111111111,
              "#46039f"
             ],
             [
              0.2222222222222222,
              "#7201a8"
             ],
             [
              0.3333333333333333,
              "#9c179e"
             ],
             [
              0.4444444444444444,
              "#bd3786"
             ],
             [
              0.5555555555555556,
              "#d8576b"
             ],
             [
              0.6666666666666666,
              "#ed7953"
             ],
             [
              0.7777777777777778,
              "#fb9f3a"
             ],
             [
              0.8888888888888888,
              "#fdca26"
             ],
             [
              1,
              "#f0f921"
             ]
            ],
            "type": "histogram2dcontour"
           }
          ],
          "mesh3d": [
           {
            "colorbar": {
             "outlinewidth": 0,
             "ticks": ""
            },
            "type": "mesh3d"
           }
          ],
          "parcoords": [
           {
            "line": {
             "colorbar": {
              "outlinewidth": 0,
              "ticks": ""
             }
            },
            "type": "parcoords"
           }
          ],
          "pie": [
           {
            "automargin": true,
            "type": "pie"
           }
          ],
          "scatter": [
           {
            "marker": {
             "colorbar": {
              "outlinewidth": 0,
              "ticks": ""
             }
            },
            "type": "scatter"
           }
          ],
          "scatter3d": [
           {
            "line": {
             "colorbar": {
              "outlinewidth": 0,
              "ticks": ""
             }
            },
            "marker": {
             "colorbar": {
              "outlinewidth": 0,
              "ticks": ""
             }
            },
            "type": "scatter3d"
           }
          ],
          "scattercarpet": [
           {
            "marker": {
             "colorbar": {
              "outlinewidth": 0,
              "ticks": ""
             }
            },
            "type": "scattercarpet"
           }
          ],
          "scattergeo": [
           {
            "marker": {
             "colorbar": {
              "outlinewidth": 0,
              "ticks": ""
             }
            },
            "type": "scattergeo"
           }
          ],
          "scattergl": [
           {
            "marker": {
             "colorbar": {
              "outlinewidth": 0,
              "ticks": ""
             }
            },
            "type": "scattergl"
           }
          ],
          "scattermapbox": [
           {
            "marker": {
             "colorbar": {
              "outlinewidth": 0,
              "ticks": ""
             }
            },
            "type": "scattermapbox"
           }
          ],
          "scatterpolar": [
           {
            "marker": {
             "colorbar": {
              "outlinewidth": 0,
              "ticks": ""
             }
            },
            "type": "scatterpolar"
           }
          ],
          "scatterpolargl": [
           {
            "marker": {
             "colorbar": {
              "outlinewidth": 0,
              "ticks": ""
             }
            },
            "type": "scatterpolargl"
           }
          ],
          "scatterternary": [
           {
            "marker": {
             "colorbar": {
              "outlinewidth": 0,
              "ticks": ""
             }
            },
            "type": "scatterternary"
           }
          ],
          "surface": [
           {
            "colorbar": {
             "outlinewidth": 0,
             "ticks": ""
            },
            "colorscale": [
             [
              0,
              "#0d0887"
             ],
             [
              0.1111111111111111,
              "#46039f"
             ],
             [
              0.2222222222222222,
              "#7201a8"
             ],
             [
              0.3333333333333333,
              "#9c179e"
             ],
             [
              0.4444444444444444,
              "#bd3786"
             ],
             [
              0.5555555555555556,
              "#d8576b"
             ],
             [
              0.6666666666666666,
              "#ed7953"
             ],
             [
              0.7777777777777778,
              "#fb9f3a"
             ],
             [
              0.8888888888888888,
              "#fdca26"
             ],
             [
              1,
              "#f0f921"
             ]
            ],
            "type": "surface"
           }
          ],
          "table": [
           {
            "cells": {
             "fill": {
              "color": "#EBF0F8"
             },
             "line": {
              "color": "white"
             }
            },
            "header": {
             "fill": {
              "color": "#C8D4E3"
             },
             "line": {
              "color": "white"
             }
            },
            "type": "table"
           }
          ]
         },
         "layout": {
          "annotationdefaults": {
           "arrowcolor": "#2a3f5f",
           "arrowhead": 0,
           "arrowwidth": 1
          },
          "coloraxis": {
           "colorbar": {
            "outlinewidth": 0,
            "ticks": ""
           }
          },
          "colorscale": {
           "diverging": [
            [
             0,
             "#8e0152"
            ],
            [
             0.1,
             "#c51b7d"
            ],
            [
             0.2,
             "#de77ae"
            ],
            [
             0.3,
             "#f1b6da"
            ],
            [
             0.4,
             "#fde0ef"
            ],
            [
             0.5,
             "#f7f7f7"
            ],
            [
             0.6,
             "#e6f5d0"
            ],
            [
             0.7,
             "#b8e186"
            ],
            [
             0.8,
             "#7fbc41"
            ],
            [
             0.9,
             "#4d9221"
            ],
            [
             1,
             "#276419"
            ]
           ],
           "sequential": [
            [
             0,
             "#0d0887"
            ],
            [
             0.1111111111111111,
             "#46039f"
            ],
            [
             0.2222222222222222,
             "#7201a8"
            ],
            [
             0.3333333333333333,
             "#9c179e"
            ],
            [
             0.4444444444444444,
             "#bd3786"
            ],
            [
             0.5555555555555556,
             "#d8576b"
            ],
            [
             0.6666666666666666,
             "#ed7953"
            ],
            [
             0.7777777777777778,
             "#fb9f3a"
            ],
            [
             0.8888888888888888,
             "#fdca26"
            ],
            [
             1,
             "#f0f921"
            ]
           ],
           "sequentialminus": [
            [
             0,
             "#0d0887"
            ],
            [
             0.1111111111111111,
             "#46039f"
            ],
            [
             0.2222222222222222,
             "#7201a8"
            ],
            [
             0.3333333333333333,
             "#9c179e"
            ],
            [
             0.4444444444444444,
             "#bd3786"
            ],
            [
             0.5555555555555556,
             "#d8576b"
            ],
            [
             0.6666666666666666,
             "#ed7953"
            ],
            [
             0.7777777777777778,
             "#fb9f3a"
            ],
            [
             0.8888888888888888,
             "#fdca26"
            ],
            [
             1,
             "#f0f921"
            ]
           ]
          },
          "colorway": [
           "#636efa",
           "#EF553B",
           "#00cc96",
           "#ab63fa",
           "#FFA15A",
           "#19d3f3",
           "#FF6692",
           "#B6E880",
           "#FF97FF",
           "#FECB52"
          ],
          "font": {
           "color": "#2a3f5f"
          },
          "geo": {
           "bgcolor": "white",
           "lakecolor": "white",
           "landcolor": "#E5ECF6",
           "showlakes": true,
           "showland": true,
           "subunitcolor": "white"
          },
          "hoverlabel": {
           "align": "left"
          },
          "hovermode": "closest",
          "mapbox": {
           "style": "light"
          },
          "paper_bgcolor": "white",
          "plot_bgcolor": "#E5ECF6",
          "polar": {
           "angularaxis": {
            "gridcolor": "white",
            "linecolor": "white",
            "ticks": ""
           },
           "bgcolor": "#E5ECF6",
           "radialaxis": {
            "gridcolor": "white",
            "linecolor": "white",
            "ticks": ""
           }
          },
          "scene": {
           "xaxis": {
            "backgroundcolor": "#E5ECF6",
            "gridcolor": "white",
            "gridwidth": 2,
            "linecolor": "white",
            "showbackground": true,
            "ticks": "",
            "zerolinecolor": "white"
           },
           "yaxis": {
            "backgroundcolor": "#E5ECF6",
            "gridcolor": "white",
            "gridwidth": 2,
            "linecolor": "white",
            "showbackground": true,
            "ticks": "",
            "zerolinecolor": "white"
           },
           "zaxis": {
            "backgroundcolor": "#E5ECF6",
            "gridcolor": "white",
            "gridwidth": 2,
            "linecolor": "white",
            "showbackground": true,
            "ticks": "",
            "zerolinecolor": "white"
           }
          },
          "shapedefaults": {
           "line": {
            "color": "#2a3f5f"
           }
          },
          "ternary": {
           "aaxis": {
            "gridcolor": "white",
            "linecolor": "white",
            "ticks": ""
           },
           "baxis": {
            "gridcolor": "white",
            "linecolor": "white",
            "ticks": ""
           },
           "bgcolor": "#E5ECF6",
           "caxis": {
            "gridcolor": "white",
            "linecolor": "white",
            "ticks": ""
           }
          },
          "title": {
           "x": 0.05
          },
          "xaxis": {
           "automargin": true,
           "gridcolor": "white",
           "linecolor": "white",
           "ticks": "",
           "title": {
            "standoff": 15
           },
           "zerolinecolor": "white",
           "zerolinewidth": 2
          },
          "yaxis": {
           "automargin": true,
           "gridcolor": "white",
           "linecolor": "white",
           "ticks": "",
           "title": {
            "standoff": 15
           },
           "zerolinecolor": "white",
           "zerolinewidth": 2
          }
         }
        },
        "title": {
         "text": "Set hover text with hovertemplate"
        }
       }
      },
      "text/html": [
       "<div>                            <div id=\"38d0d34a-08cf-4c79-827e-133ced9064a5\" class=\"plotly-graph-div\" style=\"height:525px; width:100%;\"></div>            <script type=\"text/javascript\">                require([\"plotly\"], function(Plotly) {                    window.PLOTLYENV=window.PLOTLYENV || {};                                    if (document.getElementById(\"38d0d34a-08cf-4c79-827e-133ced9064a5\")) {                    Plotly.newPlot(                        \"38d0d34a-08cf-4c79-827e-133ced9064a5\",                        [{\"hovertemplate\": \"<i>Price</i>: $%{y:.2f}<br><b>X</b>: %{x}<br><b>%{text}</b>\", \"showlegend\": false, \"text\": [\"Custom text 1\", \"Custom text 2\", \"Custom text 3\", \"Custom text 4\", \"Custom text 5\"], \"type\": \"scatter\", \"x\": [1, 2, 3, 4, 5], \"y\": [2.02825, 1.63728, 6.83839, 4.8485, 4.73463]}, {\"hovertemplate\": \"Price: %{y:$.2f}<extra></extra>\", \"showlegend\": false, \"type\": \"scatter\", \"x\": [1, 2, 3, 4, 5], \"y\": [3.02825, 2.63728, 4.83839, 3.8485, 1.73463]}],                        {\"hoverlabel\": {\"align\": \"right\"}, \"template\": {\"data\": {\"bar\": [{\"error_x\": {\"color\": \"#2a3f5f\"}, \"error_y\": {\"color\": \"#2a3f5f\"}, \"marker\": {\"line\": {\"color\": \"#E5ECF6\", \"width\": 0.5}}, \"type\": \"bar\"}], \"barpolar\": [{\"marker\": {\"line\": {\"color\": \"#E5ECF6\", \"width\": 0.5}}, \"type\": \"barpolar\"}], \"carpet\": [{\"aaxis\": {\"endlinecolor\": \"#2a3f5f\", \"gridcolor\": \"white\", \"linecolor\": \"white\", \"minorgridcolor\": \"white\", \"startlinecolor\": \"#2a3f5f\"}, \"baxis\": {\"endlinecolor\": \"#2a3f5f\", \"gridcolor\": \"white\", \"linecolor\": \"white\", \"minorgridcolor\": \"white\", \"startlinecolor\": \"#2a3f5f\"}, \"type\": \"carpet\"}], \"choropleth\": [{\"colorbar\": {\"outlinewidth\": 0, \"ticks\": \"\"}, \"type\": \"choropleth\"}], \"contour\": [{\"colorbar\": {\"outlinewidth\": 0, \"ticks\": \"\"}, \"colorscale\": [[0.0, \"#0d0887\"], [0.1111111111111111, \"#46039f\"], [0.2222222222222222, \"#7201a8\"], [0.3333333333333333, \"#9c179e\"], [0.4444444444444444, \"#bd3786\"], [0.5555555555555556, \"#d8576b\"], [0.6666666666666666, \"#ed7953\"], [0.7777777777777778, \"#fb9f3a\"], [0.8888888888888888, \"#fdca26\"], [1.0, \"#f0f921\"]], \"type\": \"contour\"}], \"contourcarpet\": [{\"colorbar\": {\"outlinewidth\": 0, \"ticks\": \"\"}, \"type\": \"contourcarpet\"}], \"heatmap\": [{\"colorbar\": {\"outlinewidth\": 0, \"ticks\": \"\"}, \"colorscale\": [[0.0, \"#0d0887\"], [0.1111111111111111, \"#46039f\"], [0.2222222222222222, \"#7201a8\"], [0.3333333333333333, \"#9c179e\"], [0.4444444444444444, \"#bd3786\"], [0.5555555555555556, \"#d8576b\"], [0.6666666666666666, \"#ed7953\"], [0.7777777777777778, \"#fb9f3a\"], [0.8888888888888888, \"#fdca26\"], [1.0, \"#f0f921\"]], \"type\": \"heatmap\"}], \"heatmapgl\": [{\"colorbar\": {\"outlinewidth\": 0, \"ticks\": \"\"}, \"colorscale\": [[0.0, \"#0d0887\"], [0.1111111111111111, \"#46039f\"], [0.2222222222222222, \"#7201a8\"], [0.3333333333333333, \"#9c179e\"], [0.4444444444444444, \"#bd3786\"], [0.5555555555555556, \"#d8576b\"], [0.6666666666666666, \"#ed7953\"], [0.7777777777777778, \"#fb9f3a\"], [0.8888888888888888, \"#fdca26\"], [1.0, \"#f0f921\"]], \"type\": \"heatmapgl\"}], \"histogram\": [{\"marker\": {\"colorbar\": {\"outlinewidth\": 0, \"ticks\": \"\"}}, \"type\": \"histogram\"}], \"histogram2d\": [{\"colorbar\": {\"outlinewidth\": 0, \"ticks\": \"\"}, \"colorscale\": [[0.0, \"#0d0887\"], [0.1111111111111111, \"#46039f\"], [0.2222222222222222, \"#7201a8\"], [0.3333333333333333, \"#9c179e\"], [0.4444444444444444, \"#bd3786\"], [0.5555555555555556, \"#d8576b\"], [0.6666666666666666, \"#ed7953\"], [0.7777777777777778, \"#fb9f3a\"], [0.8888888888888888, \"#fdca26\"], [1.0, \"#f0f921\"]], \"type\": \"histogram2d\"}], \"histogram2dcontour\": [{\"colorbar\": {\"outlinewidth\": 0, \"ticks\": \"\"}, \"colorscale\": [[0.0, \"#0d0887\"], [0.1111111111111111, \"#46039f\"], [0.2222222222222222, \"#7201a8\"], [0.3333333333333333, \"#9c179e\"], [0.4444444444444444, \"#bd3786\"], [0.5555555555555556, \"#d8576b\"], [0.6666666666666666, \"#ed7953\"], [0.7777777777777778, \"#fb9f3a\"], [0.8888888888888888, \"#fdca26\"], [1.0, \"#f0f921\"]], \"type\": \"histogram2dcontour\"}], \"mesh3d\": [{\"colorbar\": {\"outlinewidth\": 0, \"ticks\": \"\"}, \"type\": \"mesh3d\"}], \"parcoords\": [{\"line\": {\"colorbar\": {\"outlinewidth\": 0, \"ticks\": \"\"}}, \"type\": \"parcoords\"}], \"pie\": [{\"automargin\": true, \"type\": \"pie\"}], \"scatter\": [{\"marker\": {\"colorbar\": {\"outlinewidth\": 0, \"ticks\": \"\"}}, \"type\": \"scatter\"}], \"scatter3d\": [{\"line\": {\"colorbar\": {\"outlinewidth\": 0, \"ticks\": \"\"}}, \"marker\": {\"colorbar\": {\"outlinewidth\": 0, \"ticks\": \"\"}}, \"type\": \"scatter3d\"}], \"scattercarpet\": [{\"marker\": {\"colorbar\": {\"outlinewidth\": 0, \"ticks\": \"\"}}, \"type\": \"scattercarpet\"}], \"scattergeo\": [{\"marker\": {\"colorbar\": {\"outlinewidth\": 0, \"ticks\": \"\"}}, \"type\": \"scattergeo\"}], \"scattergl\": [{\"marker\": {\"colorbar\": {\"outlinewidth\": 0, \"ticks\": \"\"}}, \"type\": \"scattergl\"}], \"scattermapbox\": [{\"marker\": {\"colorbar\": {\"outlinewidth\": 0, \"ticks\": \"\"}}, \"type\": \"scattermapbox\"}], \"scatterpolar\": [{\"marker\": {\"colorbar\": {\"outlinewidth\": 0, \"ticks\": \"\"}}, \"type\": \"scatterpolar\"}], \"scatterpolargl\": [{\"marker\": {\"colorbar\": {\"outlinewidth\": 0, \"ticks\": \"\"}}, \"type\": \"scatterpolargl\"}], \"scatterternary\": [{\"marker\": {\"colorbar\": {\"outlinewidth\": 0, \"ticks\": \"\"}}, \"type\": \"scatterternary\"}], \"surface\": [{\"colorbar\": {\"outlinewidth\": 0, \"ticks\": \"\"}, \"colorscale\": [[0.0, \"#0d0887\"], [0.1111111111111111, \"#46039f\"], [0.2222222222222222, \"#7201a8\"], [0.3333333333333333, \"#9c179e\"], [0.4444444444444444, \"#bd3786\"], [0.5555555555555556, \"#d8576b\"], [0.6666666666666666, \"#ed7953\"], [0.7777777777777778, \"#fb9f3a\"], [0.8888888888888888, \"#fdca26\"], [1.0, \"#f0f921\"]], \"type\": \"surface\"}], \"table\": [{\"cells\": {\"fill\": {\"color\": \"#EBF0F8\"}, \"line\": {\"color\": \"white\"}}, \"header\": {\"fill\": {\"color\": \"#C8D4E3\"}, \"line\": {\"color\": \"white\"}}, \"type\": \"table\"}]}, \"layout\": {\"annotationdefaults\": {\"arrowcolor\": \"#2a3f5f\", \"arrowhead\": 0, \"arrowwidth\": 1}, \"coloraxis\": {\"colorbar\": {\"outlinewidth\": 0, \"ticks\": \"\"}}, \"colorscale\": {\"diverging\": [[0, \"#8e0152\"], [0.1, \"#c51b7d\"], [0.2, \"#de77ae\"], [0.3, \"#f1b6da\"], [0.4, \"#fde0ef\"], [0.5, \"#f7f7f7\"], [0.6, \"#e6f5d0\"], [0.7, \"#b8e186\"], [0.8, \"#7fbc41\"], [0.9, \"#4d9221\"], [1, \"#276419\"]], \"sequential\": [[0.0, \"#0d0887\"], [0.1111111111111111, \"#46039f\"], [0.2222222222222222, \"#7201a8\"], [0.3333333333333333, \"#9c179e\"], [0.4444444444444444, \"#bd3786\"], [0.5555555555555556, \"#d8576b\"], [0.6666666666666666, \"#ed7953\"], [0.7777777777777778, \"#fb9f3a\"], [0.8888888888888888, \"#fdca26\"], [1.0, \"#f0f921\"]], \"sequentialminus\": [[0.0, \"#0d0887\"], [0.1111111111111111, \"#46039f\"], [0.2222222222222222, \"#7201a8\"], [0.3333333333333333, \"#9c179e\"], [0.4444444444444444, \"#bd3786\"], [0.5555555555555556, \"#d8576b\"], [0.6666666666666666, \"#ed7953\"], [0.7777777777777778, \"#fb9f3a\"], [0.8888888888888888, \"#fdca26\"], [1.0, \"#f0f921\"]]}, \"colorway\": [\"#636efa\", \"#EF553B\", \"#00cc96\", \"#ab63fa\", \"#FFA15A\", \"#19d3f3\", \"#FF6692\", \"#B6E880\", \"#FF97FF\", \"#FECB52\"], \"font\": {\"color\": \"#2a3f5f\"}, \"geo\": {\"bgcolor\": \"white\", \"lakecolor\": \"white\", \"landcolor\": \"#E5ECF6\", \"showlakes\": true, \"showland\": true, \"subunitcolor\": \"white\"}, \"hoverlabel\": {\"align\": \"left\"}, \"hovermode\": \"closest\", \"mapbox\": {\"style\": \"light\"}, \"paper_bgcolor\": \"white\", \"plot_bgcolor\": \"#E5ECF6\", \"polar\": {\"angularaxis\": {\"gridcolor\": \"white\", \"linecolor\": \"white\", \"ticks\": \"\"}, \"bgcolor\": \"#E5ECF6\", \"radialaxis\": {\"gridcolor\": \"white\", \"linecolor\": \"white\", \"ticks\": \"\"}}, \"scene\": {\"xaxis\": {\"backgroundcolor\": \"#E5ECF6\", \"gridcolor\": \"white\", \"gridwidth\": 2, \"linecolor\": \"white\", \"showbackground\": true, \"ticks\": \"\", \"zerolinecolor\": \"white\"}, \"yaxis\": {\"backgroundcolor\": \"#E5ECF6\", \"gridcolor\": \"white\", \"gridwidth\": 2, \"linecolor\": \"white\", \"showbackground\": true, \"ticks\": \"\", \"zerolinecolor\": \"white\"}, \"zaxis\": {\"backgroundcolor\": \"#E5ECF6\", \"gridcolor\": \"white\", \"gridwidth\": 2, \"linecolor\": \"white\", \"showbackground\": true, \"ticks\": \"\", \"zerolinecolor\": \"white\"}}, \"shapedefaults\": {\"line\": {\"color\": \"#2a3f5f\"}}, \"ternary\": {\"aaxis\": {\"gridcolor\": \"white\", \"linecolor\": \"white\", \"ticks\": \"\"}, \"baxis\": {\"gridcolor\": \"white\", \"linecolor\": \"white\", \"ticks\": \"\"}, \"bgcolor\": \"#E5ECF6\", \"caxis\": {\"gridcolor\": \"white\", \"linecolor\": \"white\", \"ticks\": \"\"}}, \"title\": {\"x\": 0.05}, \"xaxis\": {\"automargin\": true, \"gridcolor\": \"white\", \"linecolor\": \"white\", \"ticks\": \"\", \"title\": {\"standoff\": 15}, \"zerolinecolor\": \"white\", \"zerolinewidth\": 2}, \"yaxis\": {\"automargin\": true, \"gridcolor\": \"white\", \"linecolor\": \"white\", \"ticks\": \"\", \"title\": {\"standoff\": 15}, \"zerolinecolor\": \"white\", \"zerolinewidth\": 2}}}, \"title\": {\"text\": \"Set hover text with hovertemplate\"}},                        {\"responsive\": true}                    ).then(function(){\n",
       "                            \n",
       "var gd = document.getElementById('38d0d34a-08cf-4c79-827e-133ced9064a5');\n",
       "var x = new MutationObserver(function (mutations, observer) {{\n",
       "        var display = window.getComputedStyle(gd).display;\n",
       "        if (!display || display === 'none') {{\n",
       "            console.log([gd, 'removed!']);\n",
       "            Plotly.purge(gd);\n",
       "            observer.disconnect();\n",
       "        }}\n",
       "}});\n",
       "\n",
       "// Listen for the removal of the full notebook cells\n",
       "var notebookContainer = gd.closest('#notebook-container');\n",
       "if (notebookContainer) {{\n",
       "    x.observe(notebookContainer, {childList: true});\n",
       "}}\n",
       "\n",
       "// Listen for the clearing of the current output cell\n",
       "var outputEl = gd.closest('.output');\n",
       "if (outputEl) {{\n",
       "    x.observe(outputEl, {childList: true});\n",
       "}}\n",
       "\n",
       "                        })                };                });            </script>        </div>"
      ]
     },
     "metadata": {},
     "output_type": "display_data"
    }
   ],
   "source": [
    "fig = go.Figure(go.Scatter(\n",
    "    x = [1,2,3,4,5],\n",
    "    y = [2.02825,1.63728,6.83839,4.8485,4.73463],\n",
    "    hovertemplate =\n",
    "    '<i>Price</i>: $%{y:.2f}'+\n",
    "    '<br><b>X</b>: %{x}<br>'+\n",
    "    '<b>%{text}</b>',\n",
    "    text = ['Custom text {}'.format(i + 1) for i in range(5)],\n",
    "    showlegend = False))\n",
    "\n",
    "fig.add_trace(go.Scatter(\n",
    "    x = [1,2,3,4,5],\n",
    "    y = [3.02825,2.63728,4.83839,3.8485,1.73463],\n",
    "    hovertemplate = 'Price: %{y:$.2f}<extra></extra>',\n",
    "    showlegend = False))\n",
    "\n",
    "fig.update_layout(\n",
    "    hoverlabel_align = 'right',\n",
    "    title = \"Set hover text with hovertemplate\")\n",
    "\n",
    "fig.show()"
   ]
  },
  {
   "cell_type": "code",
   "execution_count": 56,
   "metadata": {},
   "outputs": [
    {
     "data": {
      "application/vnd.jupyter.widget-view+json": {
       "model_id": "dca4d031ebdb441d9a2748f65bc50f56",
       "version_major": 2,
       "version_minor": 0
      },
      "text/plain": [
       "FigureWidget({\n",
       "    'data': [{'marker': {'color': [#a3a7e4, #a3a7e4, #a3a7e4, #a3a7e4, #a3a7e4,\n",
       "               …"
      ]
     },
     "metadata": {},
     "output_type": "display_data"
    }
   ],
   "source": [
    "import plotly.graph_objects as go\n",
    "\n",
    "import numpy as np\n",
    "np.random.seed(1)\n",
    "\n",
    "x = np.random.rand(100)\n",
    "y = np.random.rand(100)\n",
    "\n",
    "f = go.FigureWidget([go.Scatter(x=x, y=y, mode='markers')])\n",
    "\n",
    "scatter = f.data[0]\n",
    "colors = ['#a3a7e4'] * 100\n",
    "scatter.marker.color = colors\n",
    "scatter.marker.size = [10] * 100\n",
    "f.layout.hovermode = 'closest'\n",
    "\n",
    "\n",
    "# create our callback function\n",
    "def update_point(trace, points, selector):\n",
    "    c = list(scatter.marker.color)\n",
    "    s = list(scatter.marker.size)\n",
    "    for i in points.point_inds:\n",
    "        c[i] = '#bae2be'\n",
    "        s[i] = 20\n",
    "        with f.batch_update():\n",
    "            scatter.marker.color = c\n",
    "            scatter.marker.size = s\n",
    "\n",
    "\n",
    "scatter.on_click(update_point)\n",
    "\n",
    "f"
   ]
  },
  {
   "cell_type": "code",
   "execution_count": 75,
   "metadata": {},
   "outputs": [
    {
     "ename": "ValueError",
     "evalue": "columns overlap but no suffix specified: Index(['code'], dtype='object')",
     "output_type": "error",
     "traceback": [
      "\u001b[0;31m---------------------------------------------------------------------------\u001b[0m",
      "\u001b[0;31mValueError\u001b[0m                                Traceback (most recent call last)",
      "\u001b[0;32m<ipython-input-75-a952f9d03d22>\u001b[0m in \u001b[0;36m<module>\u001b[0;34m\u001b[0m\n\u001b[1;32m      1\u001b[0m \u001b[0mdf1\u001b[0m \u001b[0;34m=\u001b[0m \u001b[0mpd\u001b[0m\u001b[0;34m.\u001b[0m\u001b[0mread_csv\u001b[0m\u001b[0;34m(\u001b[0m\u001b[0;34m'/Users/mac/Desktop/concat.csv'\u001b[0m\u001b[0;34m)\u001b[0m\u001b[0;34m\u001b[0m\u001b[0;34m\u001b[0m\u001b[0m\n\u001b[0;32m----> 2\u001b[0;31m \u001b[0mdf1\u001b[0m\u001b[0;34m.\u001b[0m\u001b[0mjoin\u001b[0m\u001b[0;34m(\u001b[0m\u001b[0mdata\u001b[0m\u001b[0;34m)\u001b[0m\u001b[0;34m\u001b[0m\u001b[0;34m\u001b[0m\u001b[0m\n\u001b[0m",
      "\u001b[0;32m/Library/Frameworks/Python.framework/Versions/3.7/lib/python3.7/site-packages/pandas/core/frame.py\u001b[0m in \u001b[0;36mjoin\u001b[0;34m(self, other, on, how, lsuffix, rsuffix, sort)\u001b[0m\n\u001b[1;32m   7869\u001b[0m         \"\"\"\n\u001b[1;32m   7870\u001b[0m         return self._join_compat(\n\u001b[0;32m-> 7871\u001b[0;31m             \u001b[0mother\u001b[0m\u001b[0;34m,\u001b[0m \u001b[0mon\u001b[0m\u001b[0;34m=\u001b[0m\u001b[0mon\u001b[0m\u001b[0;34m,\u001b[0m \u001b[0mhow\u001b[0m\u001b[0;34m=\u001b[0m\u001b[0mhow\u001b[0m\u001b[0;34m,\u001b[0m \u001b[0mlsuffix\u001b[0m\u001b[0;34m=\u001b[0m\u001b[0mlsuffix\u001b[0m\u001b[0;34m,\u001b[0m \u001b[0mrsuffix\u001b[0m\u001b[0;34m=\u001b[0m\u001b[0mrsuffix\u001b[0m\u001b[0;34m,\u001b[0m \u001b[0msort\u001b[0m\u001b[0;34m=\u001b[0m\u001b[0msort\u001b[0m\u001b[0;34m\u001b[0m\u001b[0;34m\u001b[0m\u001b[0m\n\u001b[0m\u001b[1;32m   7872\u001b[0m         )\n\u001b[1;32m   7873\u001b[0m \u001b[0;34m\u001b[0m\u001b[0m\n",
      "\u001b[0;32m/Library/Frameworks/Python.framework/Versions/3.7/lib/python3.7/site-packages/pandas/core/frame.py\u001b[0m in \u001b[0;36m_join_compat\u001b[0;34m(self, other, on, how, lsuffix, rsuffix, sort)\u001b[0m\n\u001b[1;32m   7892\u001b[0m                 \u001b[0mright_index\u001b[0m\u001b[0;34m=\u001b[0m\u001b[0;32mTrue\u001b[0m\u001b[0;34m,\u001b[0m\u001b[0;34m\u001b[0m\u001b[0;34m\u001b[0m\u001b[0m\n\u001b[1;32m   7893\u001b[0m                 \u001b[0msuffixes\u001b[0m\u001b[0;34m=\u001b[0m\u001b[0;34m(\u001b[0m\u001b[0mlsuffix\u001b[0m\u001b[0;34m,\u001b[0m \u001b[0mrsuffix\u001b[0m\u001b[0;34m)\u001b[0m\u001b[0;34m,\u001b[0m\u001b[0;34m\u001b[0m\u001b[0;34m\u001b[0m\u001b[0m\n\u001b[0;32m-> 7894\u001b[0;31m                 \u001b[0msort\u001b[0m\u001b[0;34m=\u001b[0m\u001b[0msort\u001b[0m\u001b[0;34m,\u001b[0m\u001b[0;34m\u001b[0m\u001b[0;34m\u001b[0m\u001b[0m\n\u001b[0m\u001b[1;32m   7895\u001b[0m             )\n\u001b[1;32m   7896\u001b[0m         \u001b[0;32melse\u001b[0m\u001b[0;34m:\u001b[0m\u001b[0;34m\u001b[0m\u001b[0;34m\u001b[0m\u001b[0m\n",
      "\u001b[0;32m/Library/Frameworks/Python.framework/Versions/3.7/lib/python3.7/site-packages/pandas/core/reshape/merge.py\u001b[0m in \u001b[0;36mmerge\u001b[0;34m(left, right, how, on, left_on, right_on, left_index, right_index, sort, suffixes, copy, indicator, validate)\u001b[0m\n\u001b[1;32m     87\u001b[0m         \u001b[0mvalidate\u001b[0m\u001b[0;34m=\u001b[0m\u001b[0mvalidate\u001b[0m\u001b[0;34m,\u001b[0m\u001b[0;34m\u001b[0m\u001b[0;34m\u001b[0m\u001b[0m\n\u001b[1;32m     88\u001b[0m     )\n\u001b[0;32m---> 89\u001b[0;31m     \u001b[0;32mreturn\u001b[0m \u001b[0mop\u001b[0m\u001b[0;34m.\u001b[0m\u001b[0mget_result\u001b[0m\u001b[0;34m(\u001b[0m\u001b[0;34m)\u001b[0m\u001b[0;34m\u001b[0m\u001b[0;34m\u001b[0m\u001b[0m\n\u001b[0m\u001b[1;32m     90\u001b[0m \u001b[0;34m\u001b[0m\u001b[0m\n\u001b[1;32m     91\u001b[0m \u001b[0;34m\u001b[0m\u001b[0m\n",
      "\u001b[0;32m/Library/Frameworks/Python.framework/Versions/3.7/lib/python3.7/site-packages/pandas/core/reshape/merge.py\u001b[0m in \u001b[0;36mget_result\u001b[0;34m(self)\u001b[0m\n\u001b[1;32m    669\u001b[0m \u001b[0;34m\u001b[0m\u001b[0m\n\u001b[1;32m    670\u001b[0m         llabels, rlabels = _items_overlap_with_suffix(\n\u001b[0;32m--> 671\u001b[0;31m             \u001b[0mself\u001b[0m\u001b[0;34m.\u001b[0m\u001b[0mleft\u001b[0m\u001b[0;34m.\u001b[0m\u001b[0m_info_axis\u001b[0m\u001b[0;34m,\u001b[0m \u001b[0mself\u001b[0m\u001b[0;34m.\u001b[0m\u001b[0mright\u001b[0m\u001b[0;34m.\u001b[0m\u001b[0m_info_axis\u001b[0m\u001b[0;34m,\u001b[0m \u001b[0mself\u001b[0m\u001b[0;34m.\u001b[0m\u001b[0msuffixes\u001b[0m\u001b[0;34m\u001b[0m\u001b[0;34m\u001b[0m\u001b[0m\n\u001b[0m\u001b[1;32m    672\u001b[0m         )\n\u001b[1;32m    673\u001b[0m \u001b[0;34m\u001b[0m\u001b[0m\n",
      "\u001b[0;32m/Library/Frameworks/Python.framework/Versions/3.7/lib/python3.7/site-packages/pandas/core/reshape/merge.py\u001b[0m in \u001b[0;36m_items_overlap_with_suffix\u001b[0;34m(left, right, suffixes)\u001b[0m\n\u001b[1;32m   2089\u001b[0m \u001b[0;34m\u001b[0m\u001b[0m\n\u001b[1;32m   2090\u001b[0m     \u001b[0;32mif\u001b[0m \u001b[0;32mnot\u001b[0m \u001b[0mlsuffix\u001b[0m \u001b[0;32mand\u001b[0m \u001b[0;32mnot\u001b[0m \u001b[0mrsuffix\u001b[0m\u001b[0;34m:\u001b[0m\u001b[0;34m\u001b[0m\u001b[0;34m\u001b[0m\u001b[0m\n\u001b[0;32m-> 2091\u001b[0;31m         \u001b[0;32mraise\u001b[0m \u001b[0mValueError\u001b[0m\u001b[0;34m(\u001b[0m\u001b[0;34mf\"columns overlap but no suffix specified: {to_rename}\"\u001b[0m\u001b[0;34m)\u001b[0m\u001b[0;34m\u001b[0m\u001b[0;34m\u001b[0m\u001b[0m\n\u001b[0m\u001b[1;32m   2092\u001b[0m \u001b[0;34m\u001b[0m\u001b[0m\n\u001b[1;32m   2093\u001b[0m     \u001b[0;32mdef\u001b[0m \u001b[0mrenamer\u001b[0m\u001b[0;34m(\u001b[0m\u001b[0mx\u001b[0m\u001b[0;34m,\u001b[0m \u001b[0msuffix\u001b[0m\u001b[0;34m)\u001b[0m\u001b[0;34m:\u001b[0m\u001b[0;34m\u001b[0m\u001b[0;34m\u001b[0m\u001b[0m\n",
      "\u001b[0;31mValueError\u001b[0m: columns overlap but no suffix specified: Index(['code'], dtype='object')"
     ]
    }
   ],
   "source": [
    "df1 = pd.read_csv('/Users/mac/Desktop/concat.csv')\n",
    "df1.merge(data, on='')"
   ]
  },
  {
   "cell_type": "code",
   "execution_count": null,
   "metadata": {},
   "outputs": [],
   "source": []
  }
 ],
 "metadata": {
  "kernelspec": {
   "display_name": "Python 3",
   "language": "python",
   "name": "python3"
  },
  "language_info": {
   "codemirror_mode": {
    "name": "ipython",
    "version": 3
   },
   "file_extension": ".py",
   "mimetype": "text/x-python",
   "name": "python",
   "nbconvert_exporter": "python",
   "pygments_lexer": "ipython3",
   "version": "3.7.4"
  }
 },
 "nbformat": 4,
 "nbformat_minor": 4
}
